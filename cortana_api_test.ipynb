{
 "cells": [
  {
   "cell_type": "code",
   "execution_count": 7,
   "metadata": {},
   "outputs": [],
   "source": [
    "import requests\n",
    "from dotenv import load_dotenv\n",
    "import os\n",
    "load_dotenv()\n",
    "google_api_key=os.getenv('google_api_key')\n",
    "tavily_key=os.getenv('tavily_key')\n",
    "pse=os.getenv('pse')\n",
    "openai_api_key=os.getenv('openai_api_key')\n",
    "composio_api_key=os.getenv('composio_api_key')\n",
    "hf_token=os.getenv('hf_token')\n"
   ]
  },
  {
   "cell_type": "code",
   "execution_count": 11,
   "metadata": {},
   "outputs": [
    {
     "data": {
      "text/plain": [
       "<Response [200]>"
      ]
     },
     "execution_count": 11,
     "metadata": {},
     "output_type": "execute_result"
    }
   ],
   "source": [
    "requests.get(\"http://localhost:8000/health\")"
   ]
  },
  {
   "cell_type": "code",
   "execution_count": 17,
   "metadata": {},
   "outputs": [
    {
     "data": {
      "text/plain": [
       "<Response [200]>"
      ]
     },
     "execution_count": 17,
     "metadata": {},
     "output_type": "execute_result"
    }
   ],
   "source": [
    "response1 = requests.post(\"http://localhost:8000/chat\", data={\n",
    "    \"query\": \"Hello\",\n",
    "    'google_api_key':google_api_key,\n",
    "    'tavily_key':tavily_key,\n",
    "    'pse':pse,\n",
    "    'openai_api_key':openai_api_key,\n",
    "    'composio_key':composio_api_key,\n",
    "    'hf_token':hf_token,\n",
    "    'include_audio':False\n",
    "})\n",
    "\n",
    "response1"
   ]
  },
  {
   "cell_type": "code",
   "execution_count": 21,
   "metadata": {},
   "outputs": [
    {
     "data": {
      "text/plain": [
       "{'response': 'Hello! How can I help you today?', 'audio_url': None}"
      ]
     },
     "execution_count": 21,
     "metadata": {},
     "output_type": "execute_result"
    }
   ],
   "source": [
    "response1.json()"
   ]
  }
 ],
 "metadata": {
  "kernelspec": {
   "display_name": ".venv",
   "language": "python",
   "name": "python3"
  },
  "language_info": {
   "codemirror_mode": {
    "name": "ipython",
    "version": 3
   },
   "file_extension": ".py",
   "mimetype": "text/x-python",
   "name": "python",
   "nbconvert_exporter": "python",
   "pygments_lexer": "ipython3",
   "version": "3.13.2"
  }
 },
 "nbformat": 4,
 "nbformat_minor": 2
}
