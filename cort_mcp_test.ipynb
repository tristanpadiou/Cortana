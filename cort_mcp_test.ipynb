{
 "cells": [
  {
   "cell_type": "code",
   "execution_count": 1,
   "metadata": {},
   "outputs": [],
   "source": [
    "from dotenv import load_dotenv\n",
    "from typing import Literal\n",
    "from langchain_openai import ChatOpenAI\n",
    "# from langchain_google_genai import ChatGoogleGenerativeAI\n",
    "from langgraph.graph import MessagesState, StateGraph,END\n",
    "from langgraph.prebuilt import ToolNode\n",
    "from composio_langgraph import Action, ComposioToolSet, App\n",
    "import json\n",
    "\n",
    "import os\n",
    "load_dotenv(\n",
    ")\n",
    "openai_api_key=os.getenv('openai_api_key')\n",
    "composio_api_key=os.getenv('composio_api_key')\n",
    "google_api_key=os.getenv('google_api_key')\n"
   ]
  },
  {
   "cell_type": "code",
   "execution_count": 2,
   "metadata": {},
   "outputs": [],
   "source": [
    "from IPython.display import Image, display\n",
    "from langchain_core.runnables.graph import CurveStyle, MermaidDrawMethod, NodeStyles"
   ]
  },
  {
   "cell_type": "code",
   "execution_count": 34,
   "metadata": {},
   "outputs": [],
   "source": [
    "\n",
    "class Composio_agent:\n",
    "    def __init__(self,tools:list):\n",
    "       \n",
    "       self.agent=self.setup_agent(tools)\n",
    "       \n",
    "\n",
    "    def setup_agent(self,tools:list):\n",
    "        \"\"\"\n",
    "        This function is used to setup the agent\n",
    "        Args:\n",
    "            tools: list of tools from composio\n",
    "        Returns:\n",
    "            app: the agent\n",
    "        \"\"\"\n",
    "        llm = ChatOpenAI(api_key=openai_api_key)\n",
    "        tool_node = ToolNode(tools)\n",
    "\n",
    "        model_with_tools = llm.bind_tools(tools)\n",
    "\n",
    "        def call_model(state: MessagesState):\n",
    "            \"\"\"\n",
    "            Process messages through the LLM and return the response\n",
    "            \"\"\"\n",
    "            messages = state[\"messages\"]\n",
    "            response = model_with_tools.invoke(messages)\n",
    "            return {\"messages\": [response]}\n",
    "\n",
    "        workflow = StateGraph(MessagesState)\n",
    "        workflow.add_node(\"agent\", call_model)\n",
    "        workflow.add_node(\"tools\", tool_node)\n",
    "        workflow.add_edge(\"__start__\", \"agent\")\n",
    "        workflow.add_edge(\"agent\", \"tools\")\n",
    "        workflow.add_edge(\"tools\", END)\n",
    "        app = workflow.compile()\n",
    "        return app\n",
    "\n",
    "    def chat(self,query:str):  \n",
    "\n",
    "        \"\"\"\n",
    "        This tool is an agent used to interact with the agent it has a list of functionnalities that can be used to interact with the agent\n",
    "        simply pass the query to the tool with the necessary information like ids if needed and it will return the response\n",
    "        Args:\n",
    "            query: str simply pass the query to the tool\n",
    "        Returns:\n",
    "            res: str\n",
    "        \"\"\"\n",
    "        res=self.agent.invoke(\n",
    "            {\n",
    "                \"messages\": [\n",
    "                (\n",
    "                    \"human\",\n",
    "                    query,\n",
    "                )\n",
    "            ]\n",
    "        }\n",
    "    )\n",
    "        return res\n",
    "\n",
    "    def display_graph(self):\n",
    "        return display(\n",
    "                        Image(\n",
    "                                self.agent.get_graph().draw_mermaid_png(\n",
    "                                    draw_method=MermaidDrawMethod.API,\n",
    "                                )\n",
    "                            )\n",
    "                        )\n"
   ]
  },
  {
   "cell_type": "code",
   "execution_count": 10,
   "metadata": {},
   "outputs": [],
   "source": [
    "import nest_asyncio\n",
    "nest_asyncio.apply()\n",
    "from pydantic_ai import Agent\n",
    "from pydantic_ai.models.gemini import GeminiModel\n",
    "from pydantic_ai.providers.google_gla import GoogleGLAProvider\n",
    "from pydantic_ai.messages import ModelMessage\n",
    "from dataclasses import dataclass\n",
    "\n",
    "pydantic_llm=GeminiModel('gemini-2.0-flash', provider=GoogleGLAProvider(api_key=google_api_key))"
   ]
  },
  {
   "cell_type": "code",
   "execution_count": 32,
   "metadata": {},
   "outputs": [
    {
     "name": "stderr",
     "output_type": "stream",
     "text": [
      "c:\\Users\\trist\\OneDrive\\Desktop\\important\\ai_portfolio\\Cortana\\.venv\\Lib\\site-packages\\composio\\client\\collections.py:1183: UserWarning: Using all actions of an app is not recommended for production.Learn more: https://docs.composio.dev/patterns/tools/use-tools/use-specific-actions\n",
      "\n",
      "\n",
      "  warnings.warn(\n"
     ]
    }
   ],
   "source": [
    "toolset=ComposioToolSet(api_key=composio_api_key)\n",
    "tools=toolset.get_tools(apps=[App.GMAIL])"
   ]
  },
  {
   "cell_type": "code",
   "execution_count": 37,
   "metadata": {},
   "outputs": [
    {
     "data": {
      "text/plain": [
       "[ActionModel(name='GMAIL_DELETE_DRAFT', description=\"Delete an email draft using gmail's api.\", parameters=ActionParametersModel(properties={'draft_id': {'description': 'The ID of the draft to be deleted. Note: This is not the ID of the draft message that was created. Please provide a value of type string. This parameter is required.', 'title': 'Draft Id', 'type': 'string'}, 'user_id': {'default': 'me', 'description': \"The user's email address or 'me' for the authenticated user. Please provide a value of type string.\", 'title': 'User Id', 'type': 'string'}}, title='DeleteDraftRequest', type='object', required=['draft_id'], examples=None), response=ActionResponseModel(properties={'data': {'description': 'Data from the action execution. This parameter is required.', 'properties': {'success': {'description': 'Indicates if the draft was successfully deleted.', 'title': 'Success', 'type': 'boolean'}}, 'required': ['success'], 'title': 'Data', 'type': 'object'}, 'error': {'anyOf': [{'type': 'string'}, {'type': 'null'}], 'default': None, 'description': 'Error if any occurred during the execution of the action', 'title': 'Error'}, 'successful': {'description': 'Whether or not the action execution was successful or not. Please provide a value of type boolean. This parameter is required.', 'title': 'Successful', 'type': 'boolean'}}, title='DeleteDraftResponseWrapper', type='object', required=['data', 'successful'], examples=None), appName='gmail', appId='gmail', version='0_1', available_versions=['0_1', 'latest', 'latest:base'], tags=['important'], logo='https://cdn.jsdelivr.net/gh/ComposioHQ/open-logos@master/gmail.svg', display_name='Delete Draft', enabled=False),\n",
       " ActionModel(name='GMAIL_DELETE_MESSAGE', description=\"Delete an email message using gmail's api. note: this action requires the integration to have the `https://mail.google.com/` scope.\", parameters=ActionParametersModel(properties={'message_id': {'description': 'The ID of the message to be deleted. Please provide a value of type string. This parameter is required.', 'title': 'Message Id', 'type': 'string'}, 'user_id': {'default': 'me', 'description': \"The user's email address or 'me' for the authenticated user. Please provide a value of type string.\", 'title': 'User Id', 'type': 'string'}}, title='DeleteMessageRequest', type='object', required=['message_id'], examples=None), response=ActionResponseModel(properties={'data': {'description': 'Data from the action execution. This parameter is required.', 'properties': {'success': {'description': 'Indicates if the message was successfully deleted.', 'title': 'Success', 'type': 'boolean'}}, 'required': ['success'], 'title': 'Data', 'type': 'object'}, 'error': {'anyOf': [{'type': 'string'}, {'type': 'null'}], 'default': None, 'description': 'Error if any occurred during the execution of the action', 'title': 'Error'}, 'successful': {'description': 'Whether or not the action execution was successful or not. Please provide a value of type boolean. This parameter is required.', 'title': 'Successful', 'type': 'boolean'}}, title='DeleteMessageResponseWrapper', type='object', required=['data', 'successful'], examples=None), appName='gmail', appId='gmail', version='0_1', available_versions=['0_1', 'latest', 'latest:base'], tags=['important'], logo='https://cdn.jsdelivr.net/gh/ComposioHQ/open-logos@master/gmail.svg', display_name='Delete Message', enabled=False),\n",
       " ActionModel(name='GMAIL_FETCH_EMAILS', description='Action to fetch all emails from gmail.', parameters=ActionParametersModel(properties={'include_payload': {'default': True, 'description': 'Include the payload of the message in the results. Please provide a value of type boolean.', 'title': 'Include Payload', 'type': 'boolean'}, 'include_spam_trash': {'default': False, 'description': 'Include messages from SPAM and TRASH in the results. Please provide a value of type boolean.', 'title': 'Include Spam Trash', 'type': 'boolean'}, 'label_ids': {'description': \"Filter messages by their label IDs. Labels identify the status or category of messages. Some of the in-built labels include 'INBOX', 'SPAM', 'TRASH', 'UNREAD', 'STARRED', 'IMPORTANT', 'CATEGORY_PERSONAL', 'CATEGORY_SOCIAL', 'CATEGORY_PROMOTIONS', 'CATEGORY_UPDATES', and 'CATEGORY_FORUMS'. The 'label_ids' for custom labels can be found in the response of the 'listLabels' action. Note: The label_ids is a list of label IDs to filter the messages by.\", 'items': {'type': 'string'}, 'title': 'Label Ids', 'type': 'array'}, 'max_results': {'default': 1, 'description': 'Maximum number of messages to return. Please provide a value of type integer.', 'maximum': 500, 'minimum': 1, 'title': 'Max Results', 'type': 'integer'}, 'page_token': {'anyOf': [{'type': 'string'}, {'type': 'null'}], 'default': None, 'description': 'Page token to retrieve a specific page of results in the list. The page token is returned in the response of this action if there are more results to be fetched. If not provided, the first page of results is returned. Please provide a value of type string.', 'title': 'Page Token', 'type': 'string'}, 'query': {'anyOf': [{'type': 'string'}, {'type': 'null'}], 'default': None, 'description': 'Only return messages matching the specified query. Please provide a value of type string.', 'title': 'Query', 'type': 'string'}, 'user_id': {'default': 'me', 'description': \"The user's email address or 'me' for the authenticated user. Please provide a value of type string.\", 'title': 'User Id', 'type': 'string'}}, title='FetchEmailsRequest', type='object', required=None, examples=None), response=ActionResponseModel(properties={'data': {'description': 'Data from the action execution. This parameter is required.', 'properties': {'messages': {'description': 'The list of messages', 'items': {'description': 'This model represents the body a Gmail message.', 'properties': {'attachmentList': {'anyOf': [{'items': {}, 'type': 'array'}, {'type': 'null'}], 'description': 'The list of attachments', 'title': 'Attachmentlist'}, 'labelIds': {'anyOf': [{'items': {}, 'type': 'array'}, {'type': 'null'}], 'description': 'The label IDs of the message', 'title': 'Labelids'}, 'messageId': {'anyOf': [{'type': 'string'}, {'type': 'null'}], 'description': 'The message ID of the message', 'title': 'Messageid'}, 'messageText': {'anyOf': [{'type': 'string'}, {'type': 'null'}], 'description': 'The text of the message', 'title': 'Messagetext'}, 'messageTimestamp': {'anyOf': [{'type': 'string'}, {'type': 'null'}], 'description': 'The timestamp of the message', 'title': 'Messagetimestamp'}, 'payload': {'anyOf': [{'type': 'object'}, {'type': 'null'}], 'description': 'The payload of the message', 'title': 'Payload'}, 'preview': {'anyOf': [{'type': 'object'}, {'type': 'null'}], 'description': 'The preview of the message', 'title': 'Preview'}, 'sender': {'anyOf': [{'type': 'string'}, {'type': 'null'}], 'description': 'The sender of the message', 'title': 'Sender'}, 'subject': {'anyOf': [{'type': 'string'}, {'type': 'null'}], 'description': 'The subject of the message', 'title': 'Subject'}, 'threadId': {'anyOf': [{'type': 'string'}, {'type': 'null'}], 'description': 'The thread ID of the message', 'title': 'Threadid'}, 'to': {'anyOf': [{'type': 'string'}, {'type': 'null'}], 'description': 'The recipient of the message', 'title': 'To'}}, 'title': 'MessageBody', 'type': 'object'}, 'title': 'Messages', 'type': 'array'}, 'nextPageToken': {'description': 'The next page token', 'title': 'Next Page Token', 'type': 'string'}, 'resultSizeEstimate': {'description': 'The result size estimate', 'title': 'Result Size Estimate', 'type': 'integer'}}, 'required': ['nextPageToken', 'resultSizeEstimate', 'messages'], 'title': 'Data', 'type': 'object'}, 'error': {'anyOf': [{'type': 'string'}, {'type': 'null'}], 'default': None, 'description': 'Error if any occurred during the execution of the action', 'title': 'Error'}, 'successful': {'description': 'Whether or not the action execution was successful or not. Please provide a value of type boolean. This parameter is required.', 'title': 'Successful', 'type': 'boolean'}}, title='FetchEmailsResponseWrapper', type='object', required=['data', 'successful'], examples=None), appName='gmail', appId='gmail', version='0_1', available_versions=['0_1', 'latest', 'latest:base'], tags=['important'], logo='https://cdn.jsdelivr.net/gh/ComposioHQ/open-logos@master/gmail.svg', display_name='Fetch Emails', enabled=False),\n",
       " ActionModel(name='GMAIL_GET_CONTACTS', description='Action to get info of contacts saved in google for an authorized account. a custom integration with `https://www.googleapis.com/auth/contacts.readonly` scope is required to use this action.', parameters=ActionParametersModel(properties={'page_token': {'description': 'A token to get the next page of results. Please provide a value of type string.', 'title': 'Page Token', 'type': 'string'}, 'person_fields': {'default': 'emailAddresses,names,birthdays,genders', 'description': 'A field mask to restrict which fields on the person are returned. Multiple fields can be specified by separating them with commas.Valid values are: addresses, ageRanges, biographies, birthdays, calendarUrls, clientData, coverPhotos, emailAddresses etc. Please provide a value of type string.', 'examples': ['addresses', 'ageRanges', 'biographies', 'birthdays', 'coverPhotos', 'emailAddresses', 'events', 'genders', 'imClients', 'interests', 'locales', 'memberships', 'metadata', 'names', 'nicknames', 'occupations', 'organizations', 'phoneNumbers', 'photos', 'relations', 'residences', 'sipAddresses', 'skills', 'urls', 'userDefined'], 'title': 'Person Fields', 'type': 'string'}, 'resource_name': {'default': 'people/me', 'description': \"The resource name of the person to provide information about. To get information about a google account, specify 'people/account_id'. Please provide a value of type string.\", 'title': 'Resource Name', 'type': 'string'}}, title='GetContactsRequest', type='object', required=None, examples=None), response=ActionResponseModel(properties={'data': {'description': 'Data from the action execution. This parameter is required.', 'properties': {'response_data': {'description': 'Returned Response data', 'title': 'Response Data', 'type': 'object'}}, 'required': ['response_data'], 'title': 'Data', 'type': 'object'}, 'error': {'anyOf': [{'type': 'string'}, {'type': 'null'}], 'default': None, 'description': 'Error if any occurred during the execution of the action', 'title': 'Error'}, 'successful': {'description': 'Whether or not the action execution was successful or not. Please provide a value of type boolean. This parameter is required.', 'title': 'Successful', 'type': 'boolean'}}, title='GetContactsResponseWrapper', type='object', required=['data', 'successful'], examples=None), appName='gmail', appId='gmail', version='0_1', available_versions=['0_1', 'latest', 'latest:base'], tags=['important'], logo='https://cdn.jsdelivr.net/gh/ComposioHQ/open-logos@master/gmail.svg', display_name='Get Contacts', enabled=False),\n",
       " ActionModel(name='GMAIL_LIST_DRAFTS', description=\"List all email drafts using gmail's api.\", parameters=ActionParametersModel(properties={'max_results': {'default': 1, 'description': 'Maximum number of drafts to return. Please provide a value of type integer.', 'maximum': 500, 'minimum': 1, 'title': 'Max Results', 'type': 'integer'}, 'page_token': {'default': '', 'description': 'Page token to retrieve a specific page of results in the list. The page token is returned in the response of this action if there are more results to be fetched. If not provided, the first page of results is returned. Please provide a value of type string.', 'title': 'Page Token', 'type': 'string'}, 'user_id': {'default': 'me', 'description': \"The user's email address or 'me' for the authenticated user. Please provide a value of type string.\", 'title': 'User Id', 'type': 'string'}}, title='ListDraftsRequest', type='object', required=None, examples=None), response=ActionResponseModel(properties={'data': {'description': 'Data from the action execution. This parameter is required.', 'properties': {'drafts': {'description': 'List of drafts.', 'items': {'type': 'object'}, 'title': 'Drafts', 'type': 'array'}, 'next_page_token': {'anyOf': [{'type': 'string'}, {'type': 'null'}], 'default': None, 'description': 'Token to retrieve the next page of results.', 'title': 'Next Page Token'}}, 'required': ['drafts'], 'title': 'Data', 'type': 'object'}, 'error': {'anyOf': [{'type': 'string'}, {'type': 'null'}], 'default': None, 'description': 'Error if any occurred during the execution of the action', 'title': 'Error'}, 'successful': {'description': 'Whether or not the action execution was successful or not. Please provide a value of type boolean. This parameter is required.', 'title': 'Successful', 'type': 'boolean'}}, title='ListDraftsResponseWrapper', type='object', required=['data', 'successful'], examples=None), appName='gmail', appId='gmail', version='0_1', available_versions=['0_1', 'latest', 'latest:base'], tags=['important'], logo='https://cdn.jsdelivr.net/gh/ComposioHQ/open-logos@master/gmail.svg', display_name='List Drafts', enabled=False),\n",
       " ActionModel(name='GMAIL_MOVE_TO_TRASH', description=\"Move an email message to trash using gmail's api.\", parameters=ActionParametersModel(properties={'message_id': {'description': 'The ID of the message to be moved to trash. Please provide a value of type string. This parameter is required.', 'title': 'Message Id', 'type': 'string'}, 'user_id': {'default': 'me', 'description': \"The user's email address or 'me' for the authenticated user. Please provide a value of type string.\", 'title': 'User Id', 'type': 'string'}}, title='MoveToTrashRequest', type='object', required=['message_id'], examples=None), response=ActionResponseModel(properties={'data': {'description': 'Data from the action execution. This parameter is required.', 'properties': {'email': {'description': 'Indicates if the message was successfully moved to trash.', 'title': 'Email', 'type': 'object'}}, 'required': ['email'], 'title': 'Data', 'type': 'object'}, 'error': {'anyOf': [{'type': 'string'}, {'type': 'null'}], 'default': None, 'description': 'Error if any occurred during the execution of the action', 'title': 'Error'}, 'successful': {'description': 'Whether or not the action execution was successful or not. Please provide a value of type boolean. This parameter is required.', 'title': 'Successful', 'type': 'boolean'}}, title='MoveToTrashResponseWrapper', type='object', required=['data', 'successful'], examples=None), appName='gmail', appId='gmail', version='0_1', available_versions=['0_1', 'latest', 'latest:base'], tags=['important'], logo='https://cdn.jsdelivr.net/gh/ComposioHQ/open-logos@master/gmail.svg', display_name='Move to Trash', enabled=False),\n",
       " ActionModel(name='GMAIL_REPLY_TO_THREAD', description='Action to reply to an email thread in gmail.', parameters=ActionParametersModel(properties={'bcc': {'default': [], 'description': 'Email addresses of the recipients to be added as a blind carbon copy (BCC).', 'examples': [['john@doe.com', 'jane@doe.com']], 'items': {'type': 'string'}, 'title': 'Bcc', 'type': 'array'}, 'cc': {'default': [], 'description': 'Email addresses of the recipients to be added as a carbon copy (CC).', 'examples': [['john@doe.com', 'jane@doe.com']], 'items': {'type': 'string'}, 'title': 'Cc', 'type': 'array'}, 'extra_recipients': {'default': [], 'description': 'Extra email addresses of the recipients to be added.These will be treated as regular recipients, not CC or BCC.', 'examples': [['john@doe.com', 'jane@doe.com']], 'items': {'type': 'string'}, 'title': 'Extra Recipients', 'type': 'array'}, 'is_html': {'default': False, 'description': 'Set to True if the body content is HTML. Please provide a value of type boolean.', 'title': 'Is Html', 'type': 'boolean'}, 'message_body': {'description': 'Body of the reply message. Please provide a value of type string. This parameter is required.', 'examples': ['Dear Sir, Nice talking to you. Yours respectfully, John'], 'title': 'Message Body', 'type': 'string'}, 'recipient_email': {'description': 'Email address of the recipient. Please provide a value of type string. This parameter is required.', 'examples': ['John@doe.com'], 'title': 'Recipient Email', 'type': 'string'}, 'thread_id': {'description': 'ID of the thread to reply to. Please provide a value of type string. This parameter is required.', 'examples': ['x53r3vdevff'], 'title': 'Thread Id', 'type': 'string'}, 'user_id': {'default': 'me', 'description': \"The user's email address or 'me' for the authenticated user. Please provide a value of type string.\", 'title': 'User Id', 'type': 'string'}}, title='ReplyToThreadRequest', type='object', required=['thread_id', 'message_body', 'recipient_email'], examples=None), response=ActionResponseModel(properties={'data': {'description': 'Data from the action execution. This parameter is required.', 'properties': {'response_data': {'default': None, 'description': 'Response Data', 'title': 'Response Data', 'type': 'object'}}, 'title': 'Data', 'type': 'object'}, 'error': {'anyOf': [{'type': 'string'}, {'type': 'null'}], 'default': None, 'description': 'Error if any occurred during the execution of the action', 'title': 'Error'}, 'successful': {'description': 'Whether or not the action execution was successful or not. Please provide a value of type boolean. This parameter is required.', 'title': 'Successful', 'type': 'boolean'}}, title='ReplyToThreadResponseWrapper', type='object', required=['data', 'successful'], examples=None), appName='gmail', appId='gmail', version='0_1', available_versions=['0_1', 'latest', 'latest:base'], tags=['important'], logo='https://cdn.jsdelivr.net/gh/ComposioHQ/open-logos@master/gmail.svg', display_name='Reply to Email Thread', enabled=False),\n",
       " ActionModel(name='GMAIL_SEARCH_PEOPLE', description=\"Provides a list of contacts in the authenticated user's grouped contacts that matches the search query. the query matches on a contact's names, nicknames, emailaddresses, phonenumbers, and organizations fields that are from the contact source. a custom integration with `https://www.googleapis.com/auth/contacts.readonly` scope is required to use this action.\", parameters=ActionParametersModel(properties={'other_contacts': {'default': False, 'description': \"If true, the response will include other contacts that match the search query. If false, the response will only include contacts from the authenticated user's grouped contacts. When this is true, only the following person fields are allowed: emailAddresses, names, phoneNumbers. Please provide a value of type boolean.\", 'title': 'Other Contacts', 'type': 'boolean'}, 'pageSize': {'default': 10, 'description': 'The number of results to return. Defaults to 10 if field is not set, or set to 0. Values greater than 30 will be capped to 30. Please provide a value of type integer.', 'maximum': 30, 'minimum': 0, 'title': 'Page Size', 'type': 'integer'}, 'person_fields': {'default': 'emailAddresses,names,phoneNumbers', 'description': 'A field mask to restrict which fields on the person are returned. Multiple fields can be specified by separating them with commas. Please provide a value of type string.', 'examples': ['addresses', 'ageRanges', 'biographies', 'birthdays', 'coverPhotos', 'emailAddresses', 'events', 'genders', 'imClients', 'interests', 'locales', 'memberships', 'metadata', 'names', 'nicknames', 'occupations', 'organizations', 'phoneNumbers', 'photos', 'relations', 'residences', 'sipAddresses', 'skills', 'urls', 'userDefined'], 'title': 'Person Fields', 'type': 'string'}, 'query': {'description': \"The query matches on a contact's names, nickNames, emailAddresses, phoneNumbers, and organizations fields. Please provide a value of type string. This parameter is required.\", 'title': 'Query', 'type': 'string'}}, title='SearchPeopleRequest', type='object', required=['query'], examples=None), response=ActionResponseModel(properties={'data': {'description': 'Data from the action execution. This parameter is required.', 'properties': {'response_data': {'description': 'Returned Response data', 'title': 'Response Data', 'type': 'object'}}, 'required': ['response_data'], 'title': 'Data', 'type': 'object'}, 'error': {'anyOf': [{'type': 'string'}, {'type': 'null'}], 'default': None, 'description': 'Error if any occurred during the execution of the action', 'title': 'Error'}, 'successful': {'description': 'Whether or not the action execution was successful or not. Please provide a value of type boolean. This parameter is required.', 'title': 'Successful', 'type': 'boolean'}}, title='SearchPeopleResponseWrapper', type='object', required=['data', 'successful'], examples=None), appName='gmail', appId='gmail', version='0_1', available_versions=['0_1', 'latest', 'latest:base'], tags=['important'], logo='https://cdn.jsdelivr.net/gh/ComposioHQ/open-logos@master/gmail.svg', display_name='Search People', enabled=False),\n",
       " ActionModel(name='GMAIL_SEND_EMAIL', description=\"Send an email using gmail's api.\", parameters=ActionParametersModel(properties={'attachment': {'type': 'string', 'format': 'path', 'description': 'Path of File to be attached with the mail, If attachment to be sent.', 'title': 'FileUploadable'}, 'bcc': {'default': [], 'description': 'Email addresses of the recipients to be added as a blind carbon copy (BCC).', 'examples': [['john@doe.com', 'jane@doe.com']], 'items': {'type': 'string'}, 'title': 'Bcc', 'type': 'array'}, 'body': {'description': 'Body content of the email. Can be plain text or HTML. Please provide a value of type string. This parameter is required.', 'examples': ['<h1>Hello</h1><p>This is an HTML email.</p>'], 'title': 'Body', 'type': 'string'}, 'cc': {'default': [], 'description': 'Email addresses of the recipients to be added as a carbon copy (CC).', 'examples': [['john@doe.com', 'jane@doe.com']], 'items': {'type': 'string'}, 'title': 'Cc', 'type': 'array'}, 'extra_recipients': {'default': [], 'description': 'Extra email addresses of the recipients to be added.These will be treated as regular recipients, not CC or BCC.', 'examples': [['john@doe.com', 'jane@doe.com']], 'items': {'type': 'string'}, 'title': 'Extra Recipients', 'type': 'array'}, 'is_html': {'default': False, 'description': 'Set to True if the body content is HTML. Please provide a value of type boolean.', 'title': 'Is Html', 'type': 'boolean'}, 'recipient_email': {'description': 'Email address of the recipient. Please provide a value of type string. This parameter is required.', 'examples': ['john@doe.com'], 'title': 'Recipient Email', 'type': 'string'}, 'subject': {'default': None, 'description': 'Subject of the email. Please provide a value of type string.', 'examples': ['Job Application'], 'title': 'Subject', 'type': 'string'}, 'user_id': {'default': 'me', 'description': \"The user's email address or 'me' for the authenticated user. Please provide a value of type string.\", 'title': 'User Id', 'type': 'string'}}, title='SendEmailRequest', type='object', required=['recipient_email', 'body'], examples=None), response=ActionResponseModel(properties={'data': {'description': 'Data from the action execution. This parameter is required.', 'properties': {'response_data': {'description': 'Email Response Data', 'title': 'Response Data', 'type': 'object'}}, 'required': ['response_data'], 'title': 'Data', 'type': 'object'}, 'error': {'anyOf': [{'type': 'string'}, {'type': 'null'}], 'default': None, 'description': 'Error if any occurred during the execution of the action', 'title': 'Error'}, 'successful': {'description': 'Whether or not the action execution was successful or not. Please provide a value of type boolean. This parameter is required.', 'title': 'Successful', 'type': 'boolean'}}, title='SendEmailResponseWrapper', type='object', required=['data', 'successful'], examples=None), appName='gmail', appId='gmail', version='0_1', available_versions=['0_1', 'latest', 'latest:base'], tags=['important'], logo='https://cdn.jsdelivr.net/gh/ComposioHQ/open-logos@master/gmail.svg', display_name='Send Email', enabled=False)]"
      ]
     },
     "execution_count": 37,
     "metadata": {},
     "output_type": "execute_result"
    }
   ],
   "source": [
    "#get tool schemas\n",
    "toolset.get_action_schemas(apps=[App.GMAIL])"
   ]
  },
  {
   "cell_type": "code",
   "execution_count": 35,
   "metadata": {},
   "outputs": [],
   "source": [
    "gmail_agent=Composio_agent(tools)"
   ]
  },
  {
   "cell_type": "code",
   "execution_count": 6,
   "metadata": {},
   "outputs": [],
   "source": [
    "@dataclass\n",
    "class Message_state:\n",
    "    messages: list[ModelMessage]"
   ]
  },
  {
   "cell_type": "code",
   "execution_count": 12,
   "metadata": {},
   "outputs": [],
   "source": [
    "def gmail_tool(query:str):\n",
    "    \"\"\"\n",
    "    This tool is used to interact with the gmail agent\n",
    "    Args:\n",
    "        query: str\n",
    "    Returns:\n",
    "        res: str\n",
    "    \"\"\"\n",
    "    return gmail_agent.chat(query)"
   ]
  },
  {
   "cell_type": "code",
   "execution_count": 13,
   "metadata": {},
   "outputs": [],
   "source": [
    "agent=Agent(pydantic_llm, tools=[gmail_tool], instructions=\"you the gmail assistant, you are given a list of fuctionalities that the tool has access to to answer the user's query\")"
   ]
  },
  {
   "cell_type": "code",
   "execution_count": 14,
   "metadata": {},
   "outputs": [],
   "source": [
    "memory=Message_state(messages=[])\n"
   ]
  },
  {
   "cell_type": "code",
   "execution_count": 20,
   "metadata": {},
   "outputs": [],
   "source": [
    "res=agent.run_sync(f'functionnalities:{},query: what is the first one', message_history=memory.messages)\n",
    "memory.messages=res.all_messages()\n"
   ]
  },
  {
   "cell_type": "code",
   "execution_count": 26,
   "metadata": {},
   "outputs": [
    {
     "data": {
      "text/plain": [
       "StructuredTool(name='GMAIL_DELETE_DRAFT', description=\"Delete an email draft using gmail's api.\", args_schema=<class 'composio.utils.shared.DeleteDraftRequest'>, handle_tool_error=True, handle_validation_error=True, func=<function ComposioToolSet._wrap_action.<locals>.function at 0x000001BA25A916C0>)"
      ]
     },
     "execution_count": 26,
     "metadata": {},
     "output_type": "execute_result"
    }
   ],
   "source": [
    "gmail_agent.tools.get"
   ]
  },
  {
   "cell_type": "code",
   "execution_count": 21,
   "metadata": {},
   "outputs": [
    {
     "name": "stdout",
     "output_type": "stream",
     "text": [
      "The first tool is GMAIL\\_DELETE\\_DRAFT, which allows you to delete an email draft using Gmail's API.\n"
     ]
    }
   ],
   "source": [
    "print(res.output)"
   ]
  },
  {
   "cell_type": "code",
   "execution_count": 19,
   "metadata": {},
   "outputs": [
    {
     "data": {
      "text/plain": [
       "[ModelRequest(parts=[UserPromptPart(content='functionnalities:[StructuredTool(name=\\'GMAIL_DELETE_DRAFT\\', description=\"Delete an email draft using gmail\\'s api.\", args_schema=<class \\'composio.utils.shared.DeleteDraftRequest\\'>, handle_tool_error=True, handle_validation_error=True, func=<function ComposioToolSet._wrap_action.<locals>.function at 0x000001BA25A916C0>), StructuredTool(name=\\'GMAIL_DELETE_MESSAGE\\', description=\"Delete an email message using gmail\\'s api. note: this action requires the integration to have the `https://mail.google.com/` scope.\", args_schema=<class \\'composio.utils.shared.DeleteMessageRequest\\'>, handle_tool_error=True, handle_validation_error=True, func=<function ComposioToolSet._wrap_action.<locals>.function at 0x000001BA25A91800>), StructuredTool(name=\\'GMAIL_FETCH_EMAILS\\', description=\\'Action to fetch all emails from gmail.\\', args_schema=<class \\'composio.utils.shared.FetchEmailsRequest\\'>, handle_tool_error=True, handle_validation_error=True, func=<function ComposioToolSet._wrap_action.<locals>.function at 0x000001BA25A91760>), StructuredTool(name=\\'GMAIL_GET_CONTACTS\\', description=\\'Action to get info of contacts saved in google for an authorized account. a custom integration with `https://www.googleapis.com/auth/contacts.readonly` scope is required to use this action.\\', args_schema=<class \\'composio.utils.shared.GetContactsRequest\\'>, handle_tool_error=True, handle_validation_error=True, func=<function ComposioToolSet._wrap_action.<locals>.function at 0x000001BA25A90F40>), StructuredTool(name=\\'GMAIL_LIST_DRAFTS\\', description=\"List all email drafts using gmail\\'s api.\", args_schema=<class \\'composio.utils.shared.ListDraftsRequest\\'>, handle_tool_error=True, handle_validation_error=True, func=<function ComposioToolSet._wrap_action.<locals>.function at 0x000001BA25A92340>), StructuredTool(name=\\'GMAIL_MOVE_TO_TRASH\\', description=\"Move an email message to trash using gmail\\'s api.\", args_schema=<class \\'composio.utils.shared.MoveToTrashRequest\\'>, handle_tool_error=True, handle_validation_error=True, func=<function ComposioToolSet._wrap_action.<locals>.function at 0x000001BA25A92660>), StructuredTool(name=\\'GMAIL_REPLY_TO_THREAD\\', description=\\'Action to reply to an email thread in gmail.\\', args_schema=<class \\'composio.utils.shared.ReplyToThreadRequest\\'>, handle_tool_error=True, handle_validation_error=True, func=<function ComposioToolSet._wrap_action.<locals>.function at 0x000001BA25A927A0>), StructuredTool(name=\\'GMAIL_SEARCH_PEOPLE\\', description=\"Provides a list of contacts in the authenticated user\\'s grouped contacts that matches the search query. the query matches on a contact\\'s names, nicknames, emailaddresses, phonenumbers, and organizations fields that are from the contact source. a custom integration with `https://www.googleapis.com/auth/contacts.readonly` scope is required to use this action.\", args_schema=<class \\'composio.utils.shared.SearchPeopleRequest\\'>, handle_tool_error=True, handle_validation_error=True, func=<function ComposioToolSet._wrap_action.<locals>.function at 0x000001BA25A92CA0>), StructuredTool(name=\\'GMAIL_SEND_EMAIL\\', description=\"Send an email using gmail\\'s api.\", args_schema=<class \\'composio.utils.shared.SendEmailRequest\\'>, handle_tool_error=True, handle_validation_error=True, func=<function ComposioToolSet._wrap_action.<locals>.function at 0x000001BA25A928E0>)],query: list your tools and their functionnalities', timestamp=datetime.datetime(2025, 5, 19, 22, 59, 52, 311202, tzinfo=datetime.timezone.utc), part_kind='user-prompt')], instructions=\"you the gmail assistant, you are given a list of fuctionalities that the tool has access to to answer the user's query\", kind='request'),\n",
       " ModelResponse(parts=[TextPart(content=\"Here's a list of the tools you have access to and their functionalities:\\n\\n*   **GMAIL\\\\_DELETE\\\\_DRAFT**: Delete an email draft using Gmail's API.\\n*   **GMAIL\\\\_DELETE\\\\_MESSAGE**: Delete an email message using Gmail's API. Note: this action requires the integration to have the `https://mail.google.com/` scope.\\n*   **GMAIL\\\\_FETCH\\\\_EMAILS**: Fetch all emails from Gmail.\\n*   **GMAIL\\\\_GET\\\\_CONTACTS**: Get info of contacts saved in Google for an authorized account. A custom integration with `https://www.googleapis.com/auth/contacts.readonly` scope is required to use this action.\\n*   **GMAIL\\\\_LIST\\\\_DRAFTS**: List all email drafts using Gmail's API.\\n*   **GMAIL\\\\_MOVE\\\\_TO\\\\_TRASH**: Move an email message to trash using Gmail's API.\\n*   **GMAIL\\\\_REPLY\\\\_TO\\\\_THREAD**: Reply to an email thread in Gmail.\\n*   **GMAIL\\\\_SEARCH\\\\_PEOPLE**: Provides a list of contacts in the authenticated user's grouped contacts that matches the search query. The query matches on a contact's names, nicknames, email addresses, phone numbers, and organizations fields that are from the contact source. A custom integration with `https://www.googleapis.com/auth/contacts.readonly` scope is required to use this action.\\n*   **GMAIL\\\\_SEND\\\\_EMAIL**: Send an email using Gmail's API.\", part_kind='text')], usage=Usage(requests=1, request_tokens=1039, response_tokens=322, total_tokens=1361, details={}), model_name='gemini-2.0-flash', timestamp=datetime.datetime(2025, 5, 19, 22, 59, 54, 352932, tzinfo=datetime.timezone.utc), kind='response')]"
      ]
     },
     "execution_count": 19,
     "metadata": {},
     "output_type": "execute_result"
    }
   ],
   "source": [
    "memory.messages"
   ]
  },
  {
   "cell_type": "code",
   "execution_count": 109,
   "metadata": {},
   "outputs": [],
   "source": [
    "res =res['messages'][-1].model_dump_json()"
   ]
  },
  {
   "cell_type": "code",
   "execution_count": 110,
   "metadata": {},
   "outputs": [
    {
     "data": {
      "text/plain": [
       "'{\"content\":\"{\\\\\"data\\\\\": {\\\\\"calendars\\\\\": [{\\\\\"accessRole\\\\\": \\\\\"owner\\\\\", \\\\\"backgroundColor\\\\\": \\\\\"#9fe1e7\\\\\", \\\\\"colorId\\\\\": \\\\\"14\\\\\", \\\\\"conferenceProperties\\\\\": {\\\\\"allowedConferenceSolutionTypes\\\\\": [\\\\\"hangoutsMeet\\\\\"]}, \\\\\"defaultReminders\\\\\": [{\\\\\"method\\\\\": \\\\\"popup\\\\\", \\\\\"minutes\\\\\": 30}], \\\\\"etag\\\\\": \\\\\"\\\\\\\\\\\\\"1689095734000000\\\\\\\\\\\\\"\\\\\", \\\\\"foregroundColor\\\\\": \\\\\"#000000\\\\\", \\\\\"id\\\\\": \\\\\"padioutristan@gmail.com\\\\\", \\\\\"kind\\\\\": \\\\\"calendar#calendarListEntry\\\\\", \\\\\"notificationSettings\\\\\": {\\\\\"notifications\\\\\": [{\\\\\"method\\\\\": \\\\\"email\\\\\", \\\\\"type\\\\\": \\\\\"eventCreation\\\\\"}, {\\\\\"method\\\\\": \\\\\"email\\\\\", \\\\\"type\\\\\": \\\\\"eventChange\\\\\"}, {\\\\\"method\\\\\": \\\\\"email\\\\\", \\\\\"type\\\\\": \\\\\"eventCancellation\\\\\"}, {\\\\\"method\\\\\": \\\\\"email\\\\\", \\\\\"type\\\\\": \\\\\"eventResponse\\\\\"}]}, \\\\\"primary\\\\\": true, \\\\\"selected\\\\\": true, \\\\\"summary\\\\\": \\\\\"padioutristan@gmail.com\\\\\", \\\\\"timeZone\\\\\": \\\\\"America/New_York\\\\\"}, {\\\\\"accessRole\\\\\": \\\\\"reader\\\\\", \\\\\"backgroundColor\\\\\": \\\\\"#16a765\\\\\", \\\\\"colorId\\\\\": \\\\\"8\\\\\", \\\\\"conferenceProperties\\\\\": {\\\\\"allowedConferenceSolutionTypes\\\\\": [\\\\\"hangoutsMeet\\\\\"]}, \\\\\"defaultReminders\\\\\": [], \\\\\"description\\\\\": \\\\\"Holidays and Observances in United States\\\\\", \\\\\"etag\\\\\": \\\\\"\\\\\\\\\\\\\"1710262065257000\\\\\\\\\\\\\"\\\\\", \\\\\"foregroundColor\\\\\": \\\\\"#000000\\\\\", \\\\\"id\\\\\": \\\\\"en.usa#holiday@group.v.calendar.google.com\\\\\", \\\\\"kind\\\\\": \\\\\"calendar#calendarListEntry\\\\\", \\\\\"selected\\\\\": true, \\\\\"summary\\\\\": \\\\\"Holidays in United States\\\\\", \\\\\"timeZone\\\\\": \\\\\"America/New_York\\\\\"}, {\\\\\"accessRole\\\\\": \\\\\"reader\\\\\", \\\\\"backgroundColor\\\\\": \\\\\"#cabdbf\\\\\", \\\\\"colorId\\\\\": \\\\\"20\\\\\", \\\\\"conferenceProperties\\\\\": {\\\\\"allowedConferenceSolutionTypes\\\\\": [\\\\\"hangoutsMeet\\\\\"]}, \\\\\"defaultReminders\\\\\": [], \\\\\"description\\\\\": \\\\\"Calendar events for the user, Tristan Padiou\\\\\", \\\\\"etag\\\\\": \\\\\"\\\\\\\\\\\\\"1716922667791000\\\\\\\\\\\\\"\\\\\", \\\\\"foregroundColor\\\\\": \\\\\"#000000\\\\\", \\\\\"id\\\\\": \\\\\"hct5j5atrv0svqpqton0mv3q91akeqkn@import.calendar.google.com\\\\\", \\\\\"kind\\\\\": \\\\\"calendar#calendarListEntry\\\\\", \\\\\"selected\\\\\": true, \\\\\"summary\\\\\": \\\\\"Tristan Padiou Calendar (Canvas)\\\\\", \\\\\"timeZone\\\\\": \\\\\"UTC\\\\\"}]}, \\\\\"error\\\\\": null, \\\\\"successfull\\\\\": true, \\\\\"successful\\\\\": true, \\\\\"logId\\\\\": \\\\\"log_3nJm1fGgXWRj\\\\\"}\",\"additional_kwargs\":{},\"response_metadata\":{},\"type\":\"tool\",\"name\":\"GOOGLECALENDAR_LIST_CALENDARS\",\"id\":\"b1004cf9-c89b-44c1-9c69-c9d1393b0a9d\",\"tool_call_id\":\"call_TEqUJib6NUTFGZIB2uRgOOxS\",\"artifact\":null,\"status\":\"success\"}'"
      ]
     },
     "execution_count": 110,
     "metadata": {},
     "output_type": "execute_result"
    }
   ],
   "source": [
    "res"
   ]
  },
  {
   "cell_type": "code",
   "execution_count": 111,
   "metadata": {},
   "outputs": [],
   "source": [
    "resto=json.loads(res)\n",
    "res=json.loads(resto['content'])\n"
   ]
  },
  {
   "cell_type": "code",
   "execution_count": 112,
   "metadata": {},
   "outputs": [
    {
     "ename": "KeyError",
     "evalue": "'messages'",
     "output_type": "error",
     "traceback": [
      "\u001b[1;31m---------------------------------------------------------------------------\u001b[0m",
      "\u001b[1;31mKeyError\u001b[0m                                  Traceback (most recent call last)",
      "Cell \u001b[1;32mIn[112], line 1\u001b[0m\n\u001b[1;32m----> 1\u001b[0m \u001b[43mres\u001b[49m\u001b[43m[\u001b[49m\u001b[38;5;124;43m'\u001b[39;49m\u001b[38;5;124;43mdata\u001b[39;49m\u001b[38;5;124;43m'\u001b[39;49m\u001b[43m]\u001b[49m\u001b[43m[\u001b[49m\u001b[38;5;124;43m'\u001b[39;49m\u001b[38;5;124;43mmessages\u001b[39;49m\u001b[38;5;124;43m'\u001b[39;49m\u001b[43m]\u001b[49m\n",
      "\u001b[1;31mKeyError\u001b[0m: 'messages'"
     ]
    }
   ],
   "source": [
    "res['data']['messages']"
   ]
  }
 ],
 "metadata": {
  "kernelspec": {
   "display_name": ".venv",
   "language": "python",
   "name": "python3"
  },
  "language_info": {
   "codemirror_mode": {
    "name": "ipython",
    "version": 3
   },
   "file_extension": ".py",
   "mimetype": "text/x-python",
   "name": "python",
   "nbconvert_exporter": "python",
   "pygments_lexer": "ipython3",
   "version": "3.13.2"
  }
 },
 "nbformat": 4,
 "nbformat_minor": 2
}
