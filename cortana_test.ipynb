{
 "cells": [
  {
   "cell_type": "code",
   "execution_count": 1,
   "metadata": {},
   "outputs": [],
   "source": [
    "from google_agent import Google_agent\n",
    "from deep_research import Deep_research_engine\n",
    "from pydantic_ai import Agent, RunContext\n",
    "from pydantic_ai.common_tools.tavily import tavily_search_tool\n",
    "from pydantic_ai.messages import ModelMessage\n",
    "from pydantic_ai.models.google import GoogleModel\n",
    "from pydantic_ai.providers.google import GoogleProvider\n",
    "from dotenv import load_dotenv\n",
    "from dataclasses import dataclass\n",
    "from datetime import datetime\n",
    "from pydantic import Field\n",
    "\n",
    "from langchain_google_genai import ChatGoogleGenerativeAI\n",
    "import nest_asyncio\n",
    "nest_asyncio.apply()\n",
    "from langchain_openai import ChatOpenAI\n",
    "\n",
    "import os\n",
    "from tavily import TavilyClient\n",
    "load_dotenv()\n",
    "google_api_key=os.getenv('google_api_key')\n",
    "tavily_key=os.getenv('tavily_key')\n",
    "pse=os.getenv('pse')\n",
    "openai_api_key=os.getenv('openai_api_key')\n",
    "tavily_client = TavilyClient(api_key=tavily_key)\n",
    "composio_api_key=os.getenv('composio_api_key')\n",
    "# configure logfire\n",
    "import logfire\n",
    "logfire.configure(token=os.getenv('logfire_token'))\n",
    "logfire.instrument_pydantic_ai()\n"
   ]
  },
  {
   "cell_type": "code",
   "execution_count": 2,
   "metadata": {},
   "outputs": [],
   "source": [
    "\n",
    "api_keys={\n",
    "    'google_api_key':google_api_key,\n",
    "    'tavily_key':tavily_key,\n",
    "    'pse':pse,\n",
    "    'openai_api_key':openai_api_key,\n",
    "    'composio_key':composio_api_key\n",
    "}\n"
   ]
  },
  {
   "cell_type": "code",
   "execution_count": 3,
   "metadata": {},
   "outputs": [],
   "source": [
    "@dataclass\n",
    "class Message_state:\n",
    "    messages: list[ModelMessage]\n",
    "\n",
    "@dataclass\n",
    "class Api_keys:\n",
    "    api_keys: dict\n",
    "\n",
    "@dataclass\n",
    "class Deps:\n",
    "    deep_research_output: dict\n",
    "    mail_inbox: dict\n",
    "    google_agent_output: dict"
   ]
  },
  {
   "cell_type": "code",
   "execution_count": 4,
   "metadata": {},
   "outputs": [],
   "source": [
    "class Cortana_agent:\n",
    "    def __init__(self, api_keys:dict):\n",
    "        \"\"\"\n",
    "        Args:\n",
    "            \n",
    "            api_keys (dict): The API keys to use as a dictionary\n",
    "        \"\"\"\n",
    "\n",
    "        GEMINI_MODEL='gemini-2.0-flash'\n",
    "        self.api_keys=Api_keys(api_keys=api_keys)\n",
    "       \n",
    "        # tools\n",
    "        llms={'pydantic_llm':GoogleModel('gemini-2.5-flash-preview-05-20', provider=GoogleProvider(api_key=self.api_keys.api_keys['google_api_key'])),\n",
    "              'langchain_llm':ChatGoogleGenerativeAI(google_api_key=self.api_keys.api_keys['google_api_key'], model=GEMINI_MODEL, temperature=0.3),\n",
    "              'openai_llm':ChatOpenAI(api_key=self.api_keys.api_keys['openai_api_key'])}\n",
    "        \n",
    "        \n",
    "        google_agent=Google_agent(llms,self.api_keys.api_keys)\n",
    "        async def google_agent_tool(ctx:RunContext[Deps],query:str):\n",
    "            \"\"\"\n",
    "            # Google Agent Interaction Function\n",
    "\n",
    "            ## Purpose\n",
    "            This function provides an interface to interact with a Google agent that can perform multiple Google-related tasks simultaneously.\n",
    "\n",
    "            ## Capabilities\n",
    "            The agent can:\n",
    "            - Search for images\n",
    "            - Manage user emails\n",
    "            - Manage Google tasks\n",
    "            - Manage Google Maps\n",
    "            - get contact list\n",
    "            - List available tools\n",
    "            - Improve planning based on user feedback\n",
    "            - Improve its query based on user feedback\n",
    "\n",
    "            ## Parameters\n",
    "            - `query` (str): A complete query string describing the desired Google agent actions\n",
    "            - The query should include all necessary details for the requested operations\n",
    "            - Multiple actions can be specified in a single query\n",
    "\n",
    "            ## Returns\n",
    "            - `str`: The agent's response to the query\n",
    "\n",
    "            ## Important Notes\n",
    "            - The agent can process multiple actions in a single query\n",
    "            - User feedback can be provided to help improve the agent's planning and query\n",
    "            - All Google-related operations should be included in the query string\n",
    "\n",
    "            \"\"\"\n",
    "\n",
    "           \n",
    "            res=google_agent.chat(query)\n",
    "            if google_agent.state.mail_inbox:\n",
    "                ctx.deps.mail_inbox=google_agent.state.mail_inbox\n",
    "            ctx.deps.google_agent_output=google_agent.state\n",
    "            try:\n",
    "                return res.node_messages[-1]\n",
    "            except:\n",
    "                return res\n",
    "\n",
    "\n",
    "        async def search_and_question_answering_tool(ctx: RunContext[Deps], query:str, route:str):\n",
    "            \"\"\"\n",
    "            Use this tool to do a deep research on a topic, to gather detailed informations and data, answer_questions from the deep research results or do a quick research if the answer is not related to the deep research.\n",
    "            Args:\n",
    "                query (str): The query related to the search_and_question_answering_tool and its capabilities\n",
    "                route (str): The route, either deep_research or answer_question, or quick_research\n",
    "                \n",
    "\n",
    "            Returns:\n",
    "                str: The response from the search_and_question_answering_tool\n",
    "            \"\"\"\n",
    "            deep_research_engine=Deep_research_engine(llms['pydantic_llm'],self.api_keys.api_keys)\n",
    "            @dataclass\n",
    "            class Route:\n",
    "                answer: str = Field(default_factory=None,description=\"the answer to the question if the question is related to the deep research\")\n",
    "                route: str = Field(description=\"the route, either deep_research or answer_question, or quick_research\")\n",
    "            agent=Agent(llms['pydantic_llm'], output_type=Route, instructions=\"you are a router/question answering agent, you are given a query and you need to decide what to do based on the information provided\")\n",
    "            response= agent.run_sync(f\"based on the query: {query}, and the information provided: {ctx.deps.deep_research_output if ctx.deps.deep_research_output else ''} either answer the question or if the answer is not related to the information provided or need more information return 'quick_research' or 'deep_research'\")\n",
    "            route=response.output.route\n",
    "            if route=='deep_research':\n",
    "                response=deep_research_engine.chat(query)\n",
    "                ctx.deps.deep_research_output=response\n",
    "                return response\n",
    "            elif route=='answer_question':\n",
    "                return response.output.answer\n",
    "            elif route=='quick_research':\n",
    "                quick_research_agent=Agent(llms['pydantic_llm'], tools=[tavily_search_tool(self.api_keys.api_keys['tavily_key'])], instructions=\"do a websearch based on the query\")\n",
    "                result= quick_research_agent.run_sync(query)\n",
    "                return result.output\n",
    "\n",
    "        async def get_current_time_tool():\n",
    "            \"\"\"\n",
    "            Use this tool to get the current time.\n",
    "            Returns:\n",
    "                str: The current time in a formatted string\n",
    "            \"\"\"\n",
    "        \n",
    "            return f\"The current time is {datetime.now().strftime('%Y-%m-%d %H:%M:%S')}\"\n",
    "                \n",
    "\n",
    "        @dataclass\n",
    "        class Cortana_output:\n",
    "            ui_version: str= Field(description='a markdown format version of the answer for displays if necessary')\n",
    "            voice_version: str = Field(description='a conversationnal version of the answer for text to voice')\n",
    "        self.agent=Agent(llms['pydantic_llm'], output_type=Cortana_output, tools=[google_agent_tool, search_and_question_answering_tool, get_current_time_tool], system_prompt=\"you are Cortana, a helpful assistant that can help with a wide range of tasks,\\\n",
    "                          you can use the tools provided to you if necessary to help the user with their queries, ask how you can help the user\")\n",
    "        self.memory=Message_state(messages=[])\n",
    "        self.deps=Deps(deep_research_output={}, google_agent_output={},mail_inbox={})\n",
    "    \n",
    "    def chat(self, query:any):\n",
    "        \"\"\"\n",
    "        # Chat Function Documentation\n",
    "\n",
    "        This function enables interaction with the user through various types of input.\n",
    "\n",
    "        ## Parameters\n",
    "\n",
    "        - `query`: The input to process. Can be one of the following types:\n",
    "        - String: Direct text input passed to the agent\n",
    "        - Binary content: Special format for media files (see below)\n",
    "\n",
    "        ## Binary Content Types\n",
    "\n",
    "        The function supports different types of media through `BinaryContent` objects:\n",
    "\n",
    "        ### Audio\n",
    "        ```python\n",
    "        cortana_agent.chat([\n",
    "            'optional string message',\n",
    "            BinaryContent(data=audio, media_type='audio/wav')\n",
    "        ])\n",
    "        ```\n",
    "\n",
    "        ### PDF Files\n",
    "        ```python\n",
    "        cortana_agent.chat([\n",
    "            'optional string message',\n",
    "            BinaryContent(data=pdf_path.read_bytes(), media_type='application/pdf')\n",
    "        ])\n",
    "        ```\n",
    "\n",
    "        ### Images\n",
    "        ```python\n",
    "        cortana_agent.chat([\n",
    "            'optional string message',\n",
    "            BinaryContent(data=image_response.content, media_type='image/png')\n",
    "        ])\n",
    "        ```\n",
    "\n",
    "        ## Returns\n",
    "\n",
    "        - `Cortana_output`: as a pydantic object, the ui_version and voice_version are the two fields of the object\n",
    "\n",
    "        ## Extra Notes\n",
    "        The deps and message_history of cortana can be accessed using the following code:\n",
    "        ```python\n",
    "        cortana_agent.deps\n",
    "        cortana_agent.memory.messages\n",
    "        ```\n",
    "        \"\"\"\n",
    "\n",
    "        result=self.agent.run_sync(query, deps=self.deps, message_history=self.memory.messages)\n",
    "        self.memory.messages=result.all_messages()\n",
    "        return result.output\n",
    "    def reset(self):\n",
    "        \"\"\"\n",
    "        Resets the Cortana agent to its initial state.\n",
    "\n",
    "        Returns:\n",
    "            str: A confirmation message indicating that the agent has been reset.\n",
    "        \"\"\"\n",
    "        self.memory.messages=[]\n",
    "        self.deps=Deps(deep_research_output={}, google_agent_output={},mail_inbox={})\n",
    "        return f'Cortana has been reset'\n"
   ]
  },
  {
   "cell_type": "code",
   "execution_count": 5,
   "metadata": {},
   "outputs": [
    {
     "data": {
      "text/html": [
       "<pre style=\"white-space:pre;overflow-x:auto;line-height:normal;font-family:Menlo,'DejaVu Sans Mono',consolas,'Courier New',monospace\"><span style=\"font-weight: bold\">Logfire</span> project URL: <a href=\"https://logfire-us.pydantic.dev/padioutristan/cortana\" target=\"_blank\"><span style=\"color: #008080; text-decoration-color: #008080; text-decoration: underline\">https://logfire-us.pydantic.dev/padioutristan/cortana</span></a>\n",
       "</pre>\n"
      ],
      "text/plain": [
       "\u001b[1mLogfire\u001b[0m project URL: \u001b]8;id=199225;https://logfire-us.pydantic.dev/padioutristan/cortana\u001b\\\u001b[4;36mhttps://logfire-us.pydantic.dev/padioutristan/cortana\u001b[0m\u001b]8;;\u001b\\\n"
      ]
     },
     "metadata": {},
     "output_type": "display_data"
    }
   ],
   "source": [
    "llms={'pydantic_llm':GoogleModel('gemini-2.5-flash-preview-05-20', provider=GoogleProvider(api_key=api_keys['google_api_key'])),\n",
    "              'langchain_llm':ChatGoogleGenerativeAI(google_api_key=api_keys['google_api_key'], model='gemini-2.0-flash', temperature=0.3),\n",
    "              'openai_llm':ChatOpenAI(api_key=api_keys['openai_api_key'])}"
   ]
  },
  {
   "cell_type": "code",
   "execution_count": 6,
   "metadata": {},
   "outputs": [],
   "source": [
    "# google_agent=Google_agent(llms,api_keys)"
   ]
  },
  {
   "cell_type": "code",
   "execution_count": 7,
   "metadata": {},
   "outputs": [],
   "source": [
    "# google_agent.tool_functions"
   ]
  },
  {
   "cell_type": "code",
   "execution_count": 8,
   "metadata": {},
   "outputs": [
    {
     "name": "stderr",
     "output_type": "stream",
     "text": [
      "c:\\Users\\trist\\OneDrive\\Desktop\\important\\ai_portfolio\\Cortana\\.venv\\Lib\\site-packages\\composio\\client\\collections.py:1183: UserWarning: Using all actions of an app is not recommended for production.Learn more: https://docs.composio.dev/patterns/tools/use-tools/use-specific-actions\n",
      "\n",
      "Give Feedback / Get Help:\n",
      "    On GitHub: https://github.com/ComposioHQ/composio/issues/new\n",
      "    On Discord: https://dub.composio.dev/discord\n",
      "    On Email: tech@composio.dev\n",
      "    Talk to us on Intercom: https://composio.dev\n",
      "    Book a call with us: https://composio.dev/redirect?url=https://calendly.com/composiohq/support?utm_source=py-sdk-logs&utm_campaign=calendly\n",
      "If you need to debug this error, set `COMPOSIO_LOGGING_LEVEL=debug`.\n",
      "  warnings.warn(\n",
      "c:\\Users\\trist\\OneDrive\\Desktop\\important\\ai_portfolio\\Cortana\\.venv\\Lib\\site-packages\\composio\\client\\collections.py:1183: UserWarning: Using all actions of an app is not recommended for production.Learn more: https://docs.composio.dev/patterns/tools/use-tools/use-specific-actions\n",
      "\n",
      "\n",
      "  warnings.warn(\n"
     ]
    }
   ],
   "source": [
    "cortana_agent=Cortana_agent(api_keys)"
   ]
  },
  {
   "cell_type": "code",
   "execution_count": 10,
   "metadata": {},
   "outputs": [
    {
     "name": "stdout",
     "output_type": "stream",
     "text": [
      "20:33:53.769 agent run\n",
      "20:33:53.771   chat gemini-2.5-flash-preview-05-20\n",
      "20:33:55.312   running 1 tool\n",
      "20:33:55.314     running tool: search_and_question_answering_tool\n",
      "20:33:55.327       agent run\n",
      "20:33:55.327         chat gemini-2.5-flash-preview-05-20\n",
      "20:33:56.172       quick_research_agent run\n",
      "20:33:56.173         chat gemini-2.5-flash-preview-05-20\n",
      "20:33:56.835         running 1 tool\n",
      "20:33:56.836           running tool: tavily_search\n",
      "20:34:00.016         chat gemini-2.5-flash-preview-05-20\n",
      "20:34:01.406   chat gemini-2.5-flash-preview-05-20\n",
      "20:34:03.429   running 1 tool\n",
      "20:34:03.430     running tool: google_agent_tool\n",
      "20:34:03.473       run graph None\n",
      "20:34:03.480         run node planner_node\n",
      "20:34:03.485           plan_agent run\n",
      "20:34:03.486             chat gemini-2.5-flash-preview-05-20\n",
      "20:34:05.078         run node agent_node\n",
      "20:34:05.082           agent run\n",
      "20:34:05.084             chat gemini-2.5-flash-preview-05-20\n",
      "20:34:08.587         run node mail_manager_node\n",
      "20:34:14.415         run node evaluator_node\n",
      "20:34:14.419           evaluator_agent run\n",
      "20:34:14.420             chat gemini-2.5-flash-preview-05-20\n",
      "20:34:16.023         run node agent_node\n",
      "20:34:16.029   chat gemini-2.5-flash-preview-05-20\n",
      "I have sent the list of nice bars in East Village NYC to padioutristan@gmail.com.\n"
     ]
    }
   ],
   "source": [
    "res=cortana_agent.chat('search nice bars in east village nyc and send the list of places to padioutristan@gmail.com')\n",
    "print(res.ui_version)"
   ]
  },
  {
   "cell_type": "code",
   "execution_count": 21,
   "metadata": {},
   "outputs": [],
   "source": [
    "# print(res.voice_version)"
   ]
  },
  {
   "cell_type": "code",
   "execution_count": 11,
   "metadata": {},
   "outputs": [
    {
     "data": {
      "text/plain": [
       "State(node_messages=[{'mail_manager': {'data': {'response_data': {'id': '1971dc0a2d3647e4', 'labelIds': ['UNREAD', 'SENT', 'INBOX'], 'threadId': '1971dc0a2d3647e4'}}, 'error': None, 'successfull': True, 'successful': True, 'logId': 'log_9mgcVY4--dwX'}}], evaluator_message='', query=\"send an email to padioutristan@gmail.com with the subject 'Nice Bars in East Village NYC' and the following body: Here are a few nice bars in the East Village, NYC: The Belfry: A stylishly decorated bar with live music, great cocktails, and good local beers on tap. They also have a happy hour. Death & Company: An award-winning cocktail bar with a speakeasy vibe. They are known for their exceptional cocktails and have been voted Best American Cocktail Bar. Reservations are not accepted, so you'll need to put your name on a list. Schmuck: This bar offers a relaxed, living-room-like atmosphere and quickly established itself as an excellent place for cocktails. The Grayson: A popular sports bar in the East Village. The East Village also has a mix of acclaimed cocktail dens, on-tap wine bars, and relaxed beer halls/gardens.ens.\", plan=[], node_query_template={'Mail Manager': {'GMAIL_SEND_EMAIL': {'query': \"To send an email, use the 'GMAIL_SEND_EMAIL' action. You need to provide the 'recipient_email', 'subject', and 'body' of the email to complete the task\"}}}, node_query=\"Send an email to padioutristan@gmail.com with the subject 'Nice Bars in East Village NYC' and the body 'Here are a few nice bars in the East Village, NYC: The Belfry: A stylishly decorated bar with live music, great cocktails, and good local beers on tap. They also have a happy hour. Death & Company: An award-winning cocktail bar with a speakeasy vibe. They are known for their exceptional cocktails and have been voted Best American Cocktail Bar. Reservations are not accepted, so you\\\\'ll need to put your name on a list. Schmuck: This bar offers a relaxed, living-room-like atmosphere and quickly established itself as an excellent place for cocktails. The Grayson: A popular sports bar in the East Village. The East Village also has a mix of acclaimed cocktail dens, on-tap wine bars, and relaxed beer halls/gardens.ens.'.\", route='Mail Manager', n_retries=0, planning_notes='', mail_inbox={})"
      ]
     },
     "execution_count": 11,
     "metadata": {},
     "output_type": "execute_result"
    }
   ],
   "source": [
    "cortana_agent.deps.google_agent_output"
   ]
  },
  {
   "cell_type": "code",
   "execution_count": 25,
   "metadata": {},
   "outputs": [],
   "source": [
    "# cortana_agent.memory.messages"
   ]
  }
 ],
 "metadata": {
  "kernelspec": {
   "display_name": ".venv",
   "language": "python",
   "name": "python3"
  },
  "language_info": {
   "codemirror_mode": {
    "name": "ipython",
    "version": 3
   },
   "file_extension": ".py",
   "mimetype": "text/x-python",
   "name": "python",
   "nbconvert_exporter": "python",
   "pygments_lexer": "ipython3",
   "version": "3.13.2"
  }
 },
 "nbformat": 4,
 "nbformat_minor": 2
}
