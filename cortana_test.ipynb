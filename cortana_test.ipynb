{
 "cells": [
  {
   "cell_type": "code",
   "execution_count": 22,
   "metadata": {},
   "outputs": [
    {
     "name": "stderr",
     "output_type": "stream",
     "text": [
      "\u001b[1mLogfire\u001b[0m project URL: \u001b[4;36mhttps://logfire-us.pydantic.dev/padioutristan/cortana\u001b[0m\n"
     ]
    }
   ],
   "source": [
    "from google_agent import Google_agent\n",
    "from deep_research import Deep_research_engine\n",
    "from pydantic_ai import Agent, RunContext\n",
    "from pydantic_ai.common_tools.tavily import tavily_search_tool\n",
    "from pydantic_ai.messages import ModelMessage\n",
    "from pydantic_ai.models.google import GoogleModel\n",
    "from pydantic_ai.providers.google import GoogleProvider\n",
    "from dotenv import load_dotenv\n",
    "from dataclasses import dataclass\n",
    "from datetime import datetime\n",
    "from pydantic import Field\n",
    "\n",
    "from langchain_google_genai import ChatGoogleGenerativeAI\n",
    "import nest_asyncio\n",
    "nest_asyncio.apply()\n",
    "from langchain_openai import ChatOpenAI\n",
    "\n",
    "import os\n",
    "from tavily import TavilyClient\n",
    "load_dotenv()\n",
    "google_api_key=os.getenv('google_api_key')\n",
    "tavily_key=os.getenv('tavily_key')\n",
    "pse=os.getenv('pse')\n",
    "openai_api_key=os.getenv('openai_api_key')\n",
    "tavily_client = TavilyClient(api_key=tavily_key)\n",
    "composio_api_key=os.getenv('composio_api_key')\n",
    "# configure logfire\n",
    "import logfire\n",
    "logfire.configure(token=os.getenv('logfire_token'))\n",
    "logfire.instrument_pydantic_ai()\n"
   ]
  },
  {
   "cell_type": "code",
   "execution_count": 23,
   "metadata": {},
   "outputs": [],
   "source": [
    "\n",
    "api_keys={\n",
    "    'google_api_key':google_api_key,\n",
    "    'tavily_key':tavily_key,\n",
    "    'pse':pse,\n",
    "    'openai_api_key':openai_api_key,\n",
    "    'composio_key':composio_api_key\n",
    "}\n"
   ]
  },
  {
   "cell_type": "code",
   "execution_count": 24,
   "metadata": {},
   "outputs": [],
   "source": [
    "@dataclass\n",
    "class Message_state:\n",
    "    messages: list[ModelMessage]\n",
    "\n",
    "@dataclass\n",
    "class Api_keys:\n",
    "    api_keys: dict\n",
    "\n",
    "@dataclass\n",
    "class Deps:\n",
    "    deep_research_output: dict\n",
    "    mail_inbox: dict\n",
    "    google_agent_output: dict"
   ]
  },
  {
   "cell_type": "code",
   "execution_count": 25,
   "metadata": {},
   "outputs": [],
   "source": [
    "class Cortana_agent:\n",
    "    def __init__(self, api_keys:dict):\n",
    "        \"\"\"\n",
    "        Args:\n",
    "            \n",
    "            api_keys (dict): The API keys to use as a dictionary\n",
    "        \"\"\"\n",
    "\n",
    "        GEMINI_MODEL='gemini-2.0-flash'\n",
    "        self.api_keys=Api_keys(api_keys=api_keys)\n",
    "       \n",
    "        # tools\n",
    "        llms={'pydantic_llm':GoogleModel('gemini-2.5-flash-preview-05-20', provider=GoogleProvider(api_key=self.api_keys.api_keys['google_api_key'])),\n",
    "              'langchain_llm':ChatGoogleGenerativeAI(google_api_key=self.api_keys.api_keys['google_api_key'], model=GEMINI_MODEL, temperature=0.3),\n",
    "              'openai_llm':ChatOpenAI(api_key=self.api_keys.api_keys['openai_api_key'])}\n",
    "        \n",
    "        \n",
    "        google_agent=Google_agent(llms,self.api_keys.api_keys)\n",
    "        async def google_agent_tool(ctx:RunContext[Deps],query:str):\n",
    "            \"\"\"\n",
    "            # Google Agent Interaction Function\n",
    "\n",
    "            ## Purpose\n",
    "            This function provides an interface to interact with a Google agent that can perform multiple Google-related tasks simultaneously.\n",
    "\n",
    "            ## Capabilities\n",
    "            The agent can:\n",
    "            - Search for images\n",
    "            - Manage user emails\n",
    "            - Manage Google tasks\n",
    "            - Manage Google Maps\n",
    "            - get contact list\n",
    "            - List available tools\n",
    "            - Improve planning based on user feedback\n",
    "            - Improve its query based on user feedback\n",
    "\n",
    "            ## Parameters\n",
    "            - `query` (str): A complete query string describing the desired Google agent actions\n",
    "            - The query should include all necessary details for the requested operations\n",
    "            - Multiple actions can be specified in a single query\n",
    "\n",
    "            ## Returns\n",
    "            - `str`: The agent's response to the query\n",
    "\n",
    "            ## Important Notes\n",
    "            - The agent can process multiple actions in a single query\n",
    "            - User feedback can be provided to help improve the agent's planning and query\n",
    "            - All Google-related operations should be included in the query string\n",
    "\n",
    "            \"\"\"\n",
    "\n",
    "           \n",
    "            res=google_agent.chat(query)\n",
    "            ctx.deps.google_agent_output['node_messages']=res.node_messages\n",
    "            if google_agent.state.mail_inbox:\n",
    "                ctx.deps.mail_inbox=google_agent.state.mail_inbox\n",
    "            ctx.deps.google_agent_output=google_agent.state\n",
    "            try:\n",
    "                return res.node_messages[-1]\n",
    "            except:\n",
    "                return res\n",
    "        \n",
    "\n",
    "\n",
    "        async def search_and_question_answering_tool(ctx: RunContext[Deps], query:str, route:str):\n",
    "            \"\"\"\n",
    "            Use this tool to do a deep research on a topic, to gather detailed informations and data, answer_questions from the deep research results or do a quick research if the answer is not related to the deep research.\n",
    "            Args:\n",
    "                query (str): The query related to the search_and_question_answering_tool and its capabilities\n",
    "                route (str): The route, either deep_research or answer_question, or quick_research\n",
    "                \n",
    "\n",
    "            Returns:\n",
    "                str: The response from the search_and_question_answering_tool\n",
    "            \"\"\"\n",
    "            deep_research_engine=Deep_research_engine(llms['pydantic_llm'],self.api_keys.api_keys)\n",
    "            @dataclass\n",
    "            class Route:\n",
    "                answer: str = Field(default_factory=None,description=\"the answer to the question if the question is related to the deep research\")\n",
    "                route: str = Field(description=\"the route, either deep_research or answer_question, or quick_research\")\n",
    "            agent=Agent(llms['pydantic_llm'], output_type=Route, instructions=\"you are a router/question answering agent, you are given a query and you need to decide what to do based on the information provided\")\n",
    "            response= agent.run_sync(f\"based on the query: {query}, and the information provided: {ctx.deps.deep_research_output if ctx.deps.deep_research_output else ''} either answer the question or if the answer is not related to the information provided or need more information return 'quick_research' or 'deep_research'\")\n",
    "            route=response.output.route\n",
    "            if route=='deep_research':\n",
    "                response=deep_research_engine.chat(query)\n",
    "                ctx.deps.deep_research_output=response\n",
    "                return response\n",
    "            elif route=='answer_question':\n",
    "                return response.output.answer\n",
    "            elif route=='quick_research':\n",
    "                quick_research_agent=Agent(llms['pydantic_llm'], tools=[tavily_search_tool(self.api_keys.api_keys['tavily_key'])], instructions=\"do a websearch based on the query\")\n",
    "                result= quick_research_agent.run_sync(query)\n",
    "                return result.output\n",
    "\n",
    "        async def get_current_time_tool():\n",
    "            \"\"\"\n",
    "            Use this tool to get the current time.\n",
    "            Returns:\n",
    "                str: The current time in a formatted string\n",
    "            \"\"\"\n",
    "        \n",
    "            return f\"The current time is {datetime.now().strftime('%Y-%m-%d %H:%M:%S')}\"\n",
    "                \n",
    "\n",
    "        @dataclass\n",
    "        class Cortana_output:\n",
    "            ui_version: str= Field(description='a markdown format version of the answer for displays if necessary')\n",
    "            voice_version: str = Field(description='a conversationnal version of the answer for text to voice')\n",
    "        self.agent=Agent(llms['pydantic_llm'], output_type=Cortana_output, tools=[google_agent_tool, search_and_question_answering_tool, get_current_time_tool], system_prompt=\"you are Cortana, a helpful assistant that can help with a wide range of tasks,\\\n",
    "                          you can use the tools provided to you if necessary to help the user with their queries, ask how you can help the user\")\n",
    "        self.memory=Message_state(messages=[])\n",
    "        self.deps=Deps(deep_research_output={}, google_agent_output={},mail_inbox={})\n",
    "    \n",
    "    def chat(self, query:any):\n",
    "        \"\"\"\n",
    "        # Chat Function Documentation\n",
    "\n",
    "        This function enables interaction with the user through various types of input.\n",
    "\n",
    "        ## Parameters\n",
    "\n",
    "        - `query`: The input to process. Can be one of the following types:\n",
    "        - String: Direct text input passed to the agent\n",
    "        - Binary content: Special format for media files (see below)\n",
    "\n",
    "        ## Binary Content Types\n",
    "\n",
    "        The function supports different types of media through `BinaryContent` objects:\n",
    "\n",
    "        ### Audio\n",
    "        ```python\n",
    "        cortana_agent.chat([\n",
    "            'optional string message',\n",
    "            BinaryContent(data=audio, media_type='audio/wav')\n",
    "        ])\n",
    "        ```\n",
    "\n",
    "        ### PDF Files\n",
    "        ```python\n",
    "        cortana_agent.chat([\n",
    "            'optional string message',\n",
    "            BinaryContent(data=pdf_path.read_bytes(), media_type='application/pdf')\n",
    "        ])\n",
    "        ```\n",
    "\n",
    "        ### Images\n",
    "        ```python\n",
    "        cortana_agent.chat([\n",
    "            'optional string message',\n",
    "            BinaryContent(data=image_response.content, media_type='image/png')\n",
    "        ])\n",
    "        ```\n",
    "\n",
    "        ## Returns\n",
    "\n",
    "        - `Cortana_output`: as a pydantic object, the ui_version and voice_version are the two fields of the object\n",
    "\n",
    "        ## Extra Notes\n",
    "        The deps and message_history of cortana can be accessed using the following code:\n",
    "        ```python\n",
    "        cortana_agent.deps\n",
    "        cortana_agent.memory.messages\n",
    "        ```\n",
    "        \"\"\"\n",
    "\n",
    "        result=self.agent.run_sync(query, deps=self.deps, message_history=self.memory.messages)\n",
    "        self.memory.messages=result.all_messages()\n",
    "        return result.output\n",
    "    def reset(self):\n",
    "        \"\"\"\n",
    "        Resets the Cortana agent to its initial state.\n",
    "\n",
    "        Returns:\n",
    "            str: A confirmation message indicating that the agent has been reset.\n",
    "        \"\"\"\n",
    "        self.memory.messages=[]\n",
    "        self.deps=Deps(deep_research_output={}, google_agent_output={},mail_inbox={})\n",
    "        return f'Cortana has been reset'\n"
   ]
  },
  {
   "cell_type": "code",
   "execution_count": 26,
   "metadata": {},
   "outputs": [
    {
     "name": "stderr",
     "output_type": "stream",
     "text": [
      "c:\\Users\\trist\\OneDrive\\Desktop\\important\\ai_portfolio\\Cortana\\.venv\\Lib\\site-packages\\composio\\client\\collections.py:1183: UserWarning: Using all actions of an app is not recommended for production.Learn more: https://docs.composio.dev/patterns/tools/use-tools/use-specific-actions\n",
      "\n",
      "\n",
      "  warnings.warn(\n"
     ]
    }
   ],
   "source": [
    "cortana_agent=Cortana_agent(api_keys)"
   ]
  },
  {
   "cell_type": "code",
   "execution_count": 27,
   "metadata": {},
   "outputs": [
    {
     "name": "stdout",
     "output_type": "stream",
     "text": [
      "22:20:27.230 agent run\n",
      "22:20:27.243   chat gemini-2.5-flash-preview-05-20\n",
      "22:20:28.042   running 1 tool\n",
      "22:20:28.043     running tool: google_agent_tool\n",
      "22:20:28.047       run graph None\n",
      "22:20:28.048         run node planner_node\n",
      "22:20:28.052           plan_agent run\n",
      "22:20:28.053             chat gemini-2.5-flash-preview-05-20\n",
      "22:20:28.851         run node agent_node\n",
      "22:20:28.857           agent run\n",
      "22:20:28.858             chat gemini-2.5-flash-preview-05-20\n",
      "22:20:30.628         run node list_tools_node\n",
      "22:20:30.632   chat gemini-2.5-flash-preview-05-20\n",
      "I can help with various tasks using the following tools:\n",
      "\n",
      "*   **Google Agent Tools:**\n",
      "    *   **Mail Manager:** Send emails, fetch emails, list drafts, delete messages/drafts, reply to threads, get contacts, and search people.\n",
      "    *   **Maps Manager:** Get directions, compute routes, and search for places (nearby or text search).\n",
      "    *   **Tasks Manager:** Create/delete/update task lists, insert/delete/get/list/patch tasks, and clear completed tasks.\n",
      "    *   **Google Images Tool:** Search for images.\n",
      "    *   **Get Current Time:** Get the current time.\n",
      "    *   **Improve Planning Tool:** Improve planning based on feedback.\n",
      "    *   **List Tools:** List available tools.\n",
      "*   **Search and Question Answering Tool:** Perform deep research, quick research, or answer questions based on research results.\n"
     ]
    }
   ],
   "source": [
    "res=cortana_agent.chat('list tools')\n",
    "print(res.ui_version)"
   ]
  },
  {
   "cell_type": "code",
   "execution_count": 15,
   "metadata": {},
   "outputs": [
    {
     "name": "stdout",
     "output_type": "stream",
     "text": [
      "Here are your tasks: You have a task titled Massage gun, due on May 28, 2025. You have a task titled Find information about the dust detection experiment, due on January 28, 2024. It has notes. You have a task titled Find information about the passive seismic experiment, due on December 31, 2023. It has notes. You have a task titled Find information about the laser ranging retroreflector experiment, due on December 31, 2023. It has notes. You have a task titled Find information about the solar wind composition experiment, due on October 27, 2023. It has notes. You have a task titled Find information about the lunar soil mechanics experiment, due on December 31, 2023. It has notes. And finally, you have a task titled List experiments conducted during the moon landing, due on December 31, 2023. It also has notes.\n"
     ]
    }
   ],
   "source": [
    "print(res.voice_version)"
   ]
  },
  {
   "cell_type": "code",
   "execution_count": 11,
   "metadata": {},
   "outputs": [
    {
     "data": {
      "text/plain": [
       "State(node_messages=[{'tasks_manager': {'data': {'response_data': {'etag': '\"Eyxr844Jbec\"', 'items': [{'etag': '\"3OPBIJSFMs8\"', 'id': 'MDMyNDkzMjIzMzQ5ODI4MTU2MjY6MDow', 'kind': 'tasks#taskList', 'selfLink': 'https://www.googleapis.com/tasks/v1/users/@me/lists/MDMyNDkzMjIzMzQ5ODI4MTU2MjY6MDow', 'title': 'My Tasks', 'updated': '2025-05-28T04:19:44.162Z'}], 'kind': 'tasks#taskLists'}}, 'error': None, 'successfull': True, 'successful': True, 'logId': 'log_pZ5heDwm4DCr'}}, {'tasks_manager': {'data': {'nextPageToken': None, 'tasks': [{'completed': None, 'deleted': None, 'due': '2025-05-28T00:00:00.000Z', 'etag': '\"c_kqt2t3vuc\"', 'hidden': None, 'id': 'SWVpSW9sT2lTd0VOMnFTdw', 'kind': 'tasks#task', 'links': [], 'notes': None, 'parent': None, 'position': '00000000000000000000', 'selfLink': 'https://www.googleapis.com/tasks/v1/lists/MDMyNDkzMjIzMzQ5ODI4MTU2MjY6MDow/tasks/SWVpSW9sT2lTd0VOMnFTdw', 'status': 'needsAction', 'title': 'Massage gun', 'updated': '2025-05-28T04:19:44.162Z', 'webViewLink': 'https://tasks.google.com/task/IeiIolOiSwEN2qSw?sa=6'}, {'completed': None, 'deleted': None, 'due': '2024-01-28T00:00:00.000Z', 'etag': '\"cXU3V7kHbDo\"', 'hidden': None, 'id': 'Q2hQTGhWR3NFWF9Ic0lZZA', 'kind': 'tasks#task', 'links': [], 'notes': 'Research and gather details regarding the dust detection experiment. Include objectives, methodology, results, and any relevant publications.', 'parent': None, 'position': '00000000000000000001', 'selfLink': 'https://www.googleapis.com/tasks/v1/lists/MDMyNDkzMjIzMzQ5ODI4MTU2MjY6MDow/tasks/Q2hQTGhWR3NFWF9Ic0lZZA', 'status': 'needsAction', 'title': 'Find information about the dust detection experiment.', 'updated': '2025-04-16T15:43:32.788Z', 'webViewLink': 'https://tasks.google.com/task/ChPLhVGsEX_HsIYd?sa=6'}, {'completed': None, 'deleted': None, 'due': '2023-12-31T00:00:00.000Z', 'etag': '\"rbIMGZ2VYrs\"', 'hidden': None, 'id': 'M0NRbnRhR2NrVXFyNEpzWA', 'kind': 'tasks#task', 'links': [], 'notes': 'Research and gather data on passive seismic experiments, including their methodology, applications, and relevant case studies.', 'parent': None, 'position': '00000000000000000002', 'selfLink': 'https://www.googleapis.com/tasks/v1/lists/MDMyNDkzMjIzMzQ5ODI4MTU2MjY6MDow/tasks/M0NRbnRhR2NrVXFyNEpzWA', 'status': 'needsAction', 'title': 'Find information about the passive seismic experiment', 'updated': '2025-04-16T15:43:29.503Z', 'webViewLink': 'https://tasks.google.com/task/3CQntaGckUqr4JsX?sa=6'}, {'completed': None, 'deleted': None, 'due': '2023-12-31T00:00:00.000Z', 'etag': '\"2gMn0p_y-kI\"', 'hidden': None, 'id': 'Nm5Ta2U3NWlFX1J2U21RVg', 'kind': 'tasks#task', 'links': [], 'notes': 'Research the laser ranging retroreflector experiment, its purpose, and results.', 'parent': None, 'position': '00000000000000000003', 'selfLink': 'https://www.googleapis.com/tasks/v1/lists/MDMyNDkzMjIzMzQ5ODI4MTU2MjY6MDow/tasks/Nm5Ta2U3NWlFX1J2U21RVg', 'status': 'needsAction', 'title': 'Find information about the laser ranging retroreflector experiment.', 'updated': '2025-04-16T15:43:26.299Z', 'webViewLink': 'https://tasks.google.com/task/6nSke75iE_RvSmQV?sa=6'}, {'completed': None, 'deleted': None, 'due': '2023-10-27T00:00:00.000Z', 'etag': '\"uXX4QCEZmyY\"', 'hidden': None, 'id': 'dVJRZ3E5clNZaHdoRmt4WQ', 'kind': 'tasks#task', 'links': [], 'notes': 'Create a task to find information about the solar wind composition experiment.', 'parent': None, 'position': '00000000000000000004', 'selfLink': 'https://www.googleapis.com/tasks/v1/lists/MDMyNDkzMjIzMzQ5ODI4MTU2MjY6MDow/tasks/dVJRZ3E5clNZaHdoRmt4WQ', 'status': 'needsAction', 'title': 'Find information about the solar wind composition experiment.', 'updated': '2025-04-16T15:43:23.177Z', 'webViewLink': 'https://tasks.google.com/task/uRQgq9rSYhwhFkxY?sa=6'}, {'completed': None, 'deleted': None, 'due': '2023-12-31T00:00:00.000Z', 'etag': '\"1WtmMcGevUk\"', 'hidden': None, 'id': 'Q1Y4b1NKWHpGaDVPclhjNg', 'kind': 'tasks#task', 'links': [], 'notes': 'Research and gather data on the lunar soil mechanics experiment.', 'parent': None, 'position': '00000000000000000005', 'selfLink': 'https://www.googleapis.com/tasks/v1/lists/MDMyNDkzMjIzMzQ5ODI4MTU2MjY6MDow/tasks/Q1Y4b1NKWHpGaDVPclhjNg', 'status': 'needsAction', 'title': 'Find information about the lunar soil mechanics experiment.', 'updated': '2025-04-16T15:43:20.002Z', 'webViewLink': 'https://tasks.google.com/task/CV8oSJXzFh5OrXc6?sa=6'}, {'completed': None, 'deleted': None, 'due': '2023-12-31T00:00:00.000Z', 'etag': '\"VVu6PVWXc3Q\"', 'hidden': None, 'id': 'TnJvUXZxMFEyNnRTY1BVSw', 'kind': 'tasks#task', 'links': [], 'notes': 'Create a comprehensive list of all scientific experiments performed during the Apollo moon landing missions. Include details about the objectives, procedures, and results of each experiment.', 'parent': None, 'position': '00000000000000000006', 'selfLink': 'https://www.googleapis.com/tasks/v1/lists/MDMyNDkzMjIzMzQ5ODI4MTU2MjY6MDow/tasks/TnJvUXZxMFEyNnRTY1BVSw', 'status': 'needsAction', 'title': 'List experiments conducted during the moon landing', 'updated': '2025-04-16T15:43:16.896Z', 'webViewLink': 'https://tasks.google.com/task/NroQvq0Q26tScPUK?sa=6'}]}, 'error': None, 'successfull': True, 'successful': True, 'logId': 'log_BhEwZCX979Vs'}}], evaluator_message='', query='list tasks in My Tasks tasklist', plan=[], node_query_template={'Tasks Manager': {'GOOGLETASKS_LIST_TASKS': {'query': '{\"tasklist_id\": \"YOUR_TASKLIST_ID\"}'}}}, node_query='{\"tasklist_id\": \"MDMyNDkzMjIzMzQ5ODI4MTU2MjY6MDow\"}', route='Tasks Manager', n_retries=0, planning_notes='', mail_inbox={})"
      ]
     },
     "execution_count": 11,
     "metadata": {},
     "output_type": "execute_result"
    }
   ],
   "source": [
    "cortana_agent.deps.google_agent_output"
   ]
  },
  {
   "cell_type": "code",
   "execution_count": 13,
   "metadata": {},
   "outputs": [
    {
     "data": {
      "text/plain": [
       "[ModelRequest(parts=[SystemPromptPart(content='you are Cortana, a helpful assistant that can help with a wide range of tasks,                          you can use the tools provided to you to help the user with their queries, ask how you can help the user', timestamp=datetime.datetime(2025, 5, 28, 17, 49, 10, 540841, tzinfo=datetime.timezone.utc)), UserPromptPart(content='list tasks in My Tasks tasklist', timestamp=datetime.datetime(2025, 5, 28, 17, 49, 10, 540848, tzinfo=datetime.timezone.utc))]),\n",
       " ModelResponse(parts=[ToolCallPart(tool_name='google_agent_tool', args={'query': 'list tasks in My Tasks tasklist'}, tool_call_id='pyd_ai_669cf3684cac40e8b0ed7a16535d5e00')], usage=Usage(requests=1, request_tokens=491, response_tokens=23, total_tokens=585, details={'thoughts_token_count': 71}), model_name='models/gemini-2.5-flash-preview-05-20', timestamp=datetime.datetime(2025, 5, 28, 17, 49, 11, 560350, tzinfo=datetime.timezone.utc)),\n",
       " ModelRequest(parts=[ToolReturnPart(tool_name='google_agent_tool', content={'tasks_manager': 'Please provide more details or a specific request so that I can assist you accordingly.'}, tool_call_id='pyd_ai_669cf3684cac40e8b0ed7a16535d5e00', timestamp=datetime.datetime(2025, 5, 28, 17, 49, 17, 68085, tzinfo=datetime.timezone.utc))]),\n",
       " ModelResponse(parts=[ToolCallPart(tool_name='final_result', args={'ui_version': \"I'm sorry, I cannot fulfill this request. Is there anything else I can do?\", 'voice_version': \"I'm sorry, I cannot fulfill this request. Is there anything else I can do?\"}, tool_call_id='pyd_ai_517bd86a408c46ad908eacc0d56c4aed')], usage=Usage(requests=1, request_tokens=548, response_tokens=59, total_tokens=842, details={'thoughts_token_count': 235}), model_name='models/gemini-2.5-flash-preview-05-20', timestamp=datetime.datetime(2025, 5, 28, 17, 49, 18, 723156, tzinfo=datetime.timezone.utc)),\n",
       " ModelRequest(parts=[ToolReturnPart(tool_name='final_result', content='Final result processed.', tool_call_id='pyd_ai_517bd86a408c46ad908eacc0d56c4aed', timestamp=datetime.datetime(2025, 5, 28, 17, 49, 18, 724926, tzinfo=datetime.timezone.utc))])]"
      ]
     },
     "execution_count": 13,
     "metadata": {},
     "output_type": "execute_result"
    }
   ],
   "source": [
    "cortana_agent.memory.messages"
   ]
  }
 ],
 "metadata": {
  "kernelspec": {
   "display_name": ".venv",
   "language": "python",
   "name": "python3"
  },
  "language_info": {
   "codemirror_mode": {
    "name": "ipython",
    "version": 3
   },
   "file_extension": ".py",
   "mimetype": "text/x-python",
   "name": "python",
   "nbconvert_exporter": "python",
   "pygments_lexer": "ipython3",
   "version": "3.13.2"
  }
 },
 "nbformat": 4,
 "nbformat_minor": 2
}
