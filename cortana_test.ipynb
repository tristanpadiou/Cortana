{
 "cells": [
  {
   "cell_type": "code",
   "execution_count": 26,
   "metadata": {},
   "outputs": [],
   "source": [
    "from google_agent import Google_agent\n",
    "from deep_research import Deep_research_engine\n",
    "from pydantic_ai import Agent, RunContext\n",
    "from pydantic_ai.common_tools.tavily import tavily_search_tool\n",
    "from pydantic_ai.messages import ModelMessage\n",
    "from pydantic_ai.models.gemini import GeminiModel\n",
    "from pydantic_ai.providers.google_gla import GoogleGLAProvider\n",
    "from dotenv import load_dotenv\n",
    "from dataclasses import dataclass\n",
    "from datetime import datetime\n",
    "import os\n",
    "from tavily import TavilyClient\n",
    "load_dotenv()\n",
    "google_api_key=os.getenv('google_api_key')\n",
    "tavily_key=os.getenv('tavily_key')\n",
    "tavily_client = TavilyClient(api_key=tavily_key)\n",
    "llm=GeminiModel('gemini-2.0-flash', provider=GoogleGLAProvider(api_key=google_api_key))"
   ]
  },
  {
   "cell_type": "code",
   "execution_count": 2,
   "metadata": {},
   "outputs": [],
   "source": [
    "google_agent=Google_agent()\n",
    "deep_research_engine=Deep_research_engine()"
   ]
  },
  {
   "cell_type": "code",
   "execution_count": 3,
   "metadata": {},
   "outputs": [],
   "source": [
    "@dataclass\n",
    "class Message_state:\n",
    "    messages: list[ModelMessage]\n",
    "\n",
    "@dataclass\n",
    "class Deps:\n",
    "    deep_research_output: dict"
   ]
  },
  {
   "cell_type": "code",
   "execution_count": 25,
   "metadata": {},
   "outputs": [],
   "source": [
    "def google_agent_tool(query:str):\n",
    "    \"\"\"\n",
    "    Use this tool to interact with the google agent, which can, search for images manage the user's calendar, emails, tasks, contacts, and more.\n",
    "    Args:\n",
    "        query (str): The entirequery related to the google agent and its capabilities\n",
    "    Returns:\n",
    "        str: The response from the google agent\n",
    "    \"\"\"\n",
    "    return google_agent.chat(query)\n",
    "\n",
    "async def deep_research_tool(ctx: RunContext[Deps], query:str):\n",
    "    \"\"\"\n",
    "    Use this tool to do a deep research on a topic, to gather detailed informations and data.\n",
    "    Args:\n",
    "        query (str): The query related to the deep research and its capabilities\n",
    "    Returns:\n",
    "        str: The response from the deep research engine\n",
    "    \"\"\"\n",
    "    response=await deep_research_engine.chat(query)\n",
    "    ctx.deps.deep_research_output=response\n",
    "    return response\n",
    "\n",
    "async def quick_research_tool(query:str):\n",
    "    \"\"\"\n",
    "    Use this tool to do a quick research on a topic, to gather basic informations and data.\n",
    "    Args:\n",
    "        query (str): the quick research query\n",
    "    Returns:\n",
    "        str: The response from the quick research engine\n",
    "    \"\"\"\n",
    "    quick_research_agent=Agent(llm, tools=[tavily_search_tool(tavily_key)], system_prompt=\"do a websearch based on the query\")\n",
    "    result=await quick_research_agent.run(query)\n",
    "    return result.data\n",
    "\n",
    "def get_current_time_tool():\n",
    "    \"\"\"\n",
    "    Use this tool to get the current time.\n",
    "    Returns:\n",
    "        str: The current time in a formatted string\n",
    "    \"\"\"\n",
    "   \n",
    "    return f\"The current time is {datetime.now().strftime('%Y-%m-%d %H:%M:%S')}\"\n",
    "\n",
    "\n"
   ]
  },
  {
   "cell_type": "code",
   "execution_count": 27,
   "metadata": {},
   "outputs": [],
   "source": [
    "class Cortana_agent:\n",
    "    def __init__(self):\n",
    "        self.agent=Agent(llm, tools=[google_agent_tool, deep_research_tool, quick_research_tool, get_current_time_tool], system_prompt=\"you are Cortana, a helpful assistant that can help with a wide range of tasks,\\\n",
    "                          you can use the tools provided to you to help the user with their queries\")\n",
    "        self.memory=Message_state(messages=[])\n",
    "        self.deps=Deps(deep_research_output={})\n",
    "    async def chat(self, query:str):\n",
    "        result=await self.agent.run(query, deps=self.deps, message_history=self.memory.messages)\n",
    "        self.memory.messages=result.all_messages()\n",
    "        return result.data\n"
   ]
  },
  {
   "cell_type": "code",
   "execution_count": 28,
   "metadata": {},
   "outputs": [],
   "source": [
    "cortana_agent=Cortana_agent()"
   ]
  },
  {
   "cell_type": "code",
   "execution_count": 37,
   "metadata": {},
   "outputs": [
    {
     "name": "stdout",
     "output_type": "stream",
     "text": [
      "I'm Cortana, a helpful assistant.\n",
      "\n"
     ]
    }
   ],
   "source": [
    "print(await cortana_agent.chat('what is your name?'))"
   ]
  },
  {
   "cell_type": "code",
   "execution_count": 38,
   "metadata": {},
   "outputs": [
    {
     "data": {
      "text/plain": [
       "[ModelRequest(parts=[SystemPromptPart(content='you are Cortana, a helpful assistant that can help with a wide range of tasks,                          you can use the tools provided to you to help the user with their queries', timestamp=datetime.datetime(2025, 4, 11, 20, 36, 35, 436342, tzinfo=datetime.timezone.utc), dynamic_ref=None, part_kind='system-prompt'), UserPromptPart(content='what time is it?', timestamp=datetime.datetime(2025, 4, 11, 20, 36, 35, 436348, tzinfo=datetime.timezone.utc), part_kind='user-prompt')], kind='request'),\n",
       " ModelResponse(parts=[ToolCallPart(tool_name='get_current_time_tool', args={}, tool_call_id='pyd_ai_a5d730889e4848b8bb676cb61b360ba0', part_kind='tool-call')], model_name='gemini-2.0-flash', timestamp=datetime.datetime(2025, 4, 11, 20, 36, 35, 995269, tzinfo=datetime.timezone.utc), kind='response'),\n",
       " ModelRequest(parts=[ToolReturnPart(tool_name='get_current_time_tool', content='The current time is 2025-04-11 16:36:35', tool_call_id='pyd_ai_a5d730889e4848b8bb676cb61b360ba0', timestamp=datetime.datetime(2025, 4, 11, 20, 36, 35, 996061, tzinfo=datetime.timezone.utc), part_kind='tool-return')], kind='request'),\n",
       " ModelResponse(parts=[TextPart(content='It is 2025-04-11 16:36:35.\\n', part_kind='text')], model_name='gemini-2.0-flash', timestamp=datetime.datetime(2025, 4, 11, 20, 36, 36, 524109, tzinfo=datetime.timezone.utc), kind='response'),\n",
       " ModelRequest(parts=[UserPromptPart(content='what are the biggest planes in the world, compare them in details', timestamp=datetime.datetime(2025, 4, 11, 22, 42, 4, 589104, tzinfo=datetime.timezone.utc), part_kind='user-prompt')], kind='request'),\n",
       " ModelResponse(parts=[ToolCallPart(tool_name='deep_research_tool', args={'query': 'compare the biggest planes in the world in detail'}, tool_call_id='pyd_ai_97904885e2274a568410e70fb2364149', part_kind='tool-call')], model_name='gemini-2.0-flash', timestamp=datetime.datetime(2025, 4, 11, 22, 42, 5, 218812, tzinfo=datetime.timezone.utc), kind='response'),\n",
       " ModelRequest(parts=[ToolReturnPart(tool_name='deep_research_tool', content={'title': \"A Detailed Comparison of the World's Biggest Planes\", 'paragraphs': [{'title': 'Introduction', 'content': \"This section provides an overview of the world's largest aircraft, examining them based on several key criteria: wingspan, length, weight, and capacity. These metrics will be used to compare and contrast various aircraft, highlighting their unique strengths and capabilities. Aircraft discussed include the Antonov An-225 Mriya, Airbus A380, Lockheed C-5 Galaxy and the Boeing 747-8.\"}, {'title': 'Antonov An-225 Mriya', 'content': \"The Antonov An-225 Mriya, designed by the Antonov Design Bureau in Ukraine, is the largest and heaviest aircraft ever built. Its dimensions include a length of 84 meters and a wingspan of 88.4 meters. With a maximum takeoff weight of 640,000 kg, it dwarfs even the Airbus A380. Originally created to transport the Buran spacecraft, the An-225's unique capabilities include a remarkable payload capacity of 250 tonnes and a cargo hold of 1,300 m3. It utilizes six engines and accommodates a crew of six, featuring advanced digital flight decks and automatic navigation systems. Sadly, the sole operational An-225 was destroyed during the Russian invasion near Kyiv.\"}, {'title': 'Airbus A380', 'content': \"The Airbus A380, with a wingspan of 261 feet (80 meters), distinguishes itself as the world's largest passenger airliner. As the successor to the Boeing 747, this double-deck, wide-body, four-engine jet can accommodate between 525 and 853 passengers, depending on the configuration. While many ways exist to measure large aircraft, including length, weight, volume, or wingspan, the A380 mainly operates with a capacity of 400-550 seats. The Airbus A380 has a maximum takeoff weight of 560,000 kg, making it the second-heaviest aircraft globally.\"}, {'title': 'Lockheed C-5 Galaxy', 'content': 'The Lockheed C-5 Galaxy, manufactured by Lockheed Martin, is the largest military cargo aircraft in the U.S. Air Force. It is a four-engine, turbojet transport aircraft designed to carry substantial loads, including up to five helicopters or six Mine Resistant Ambush Protected (MRAP) vehicles, with a maximum capacity of 113,400 kg and a maximum takeoff weight of 381,000 kg, making it one of the heaviest airliners worldwide.'}, {'title': 'Other Notable Large Aircraft', 'content': \"Besides the aircraft already discussed, other notable large aircraft include the Boeing 747-8, the longest passenger plane at 76.2 meters, accommodating up to 605 passengers, and the Airbus A350 XWB, which has a wingspan of 64.75 meters, capable of flying to most airports without special infrastructure. The Stratolaunch, with a wingspan of 117.35 meters, is designed to carry space rockets to the edge of the Earth's atmosphere for more cost-effective launches. Additionally, the BelugaXL, with its unique shape and large cargo bay cross-section, can carry two A350 XWB wings and has a maximum payload of 51 tonnes.\"}, {'title': 'Conclusion', 'content': \"In summary, the Antonov An-225 Mriya stands out as the largest and heaviest aircraft, designed for heavy cargo transport but now destroyed. The Airbus A380 excels in passenger transport with its double-deck configuration, while the Lockheed C-5 Galaxy is the U.S. Air Force's largest military cargo aircraft. Other notable mentions include the Boeing 747-8 for passenger transport, the Airbus A350 XWB for its adaptability, the Stratolaunch for space rocket launches, and the BelugaXL for oversized cargo, each with its strengths and weaknesses across cargo, military, and passenger roles.\"}], 'references': 'https://www.freejobalert.com/biggest/largest-cargo-planes/, https://www.aviationjobsearch.com/career-hub/articles/career-advice/general/the-10-largest-cargo-planes-in-the-world, https://www.freightcourse.com/largest-cargo-planes/, https://en.wikipedia.org/wiki/List_of_large_aircraft, https://trans.info/en/10-largest-cargo-planes-in-the-world-by-maximum-capacity-251042'}, tool_call_id='pyd_ai_97904885e2274a568410e70fb2364149', timestamp=datetime.datetime(2025, 4, 11, 22, 42, 45, 852934, tzinfo=datetime.timezone.utc), part_kind='tool-return')], kind='request'),\n",
       " ModelResponse(parts=[TextPart(content=\"Okay, here's a comparison of some of the world's largest planes based on the research I did:\\n\\n*   **Antonov An-225 Mriya:** This was the largest and heaviest aircraft ever built, with a length of 84 meters and a wingspan of 88.4 meters. Its maximum takeoff weight was 640,000 kg. It was designed to carry extremely heavy cargo, but it was destroyed during the Russian invasion near Kyiv.\\n*   **Airbus A380:** This is the largest passenger airliner, with a wingspan of 80 meters. It can accommodate between 525 and 853 passengers. Its maximum takeoff weight is 560,000 kg.\\n*   **Lockheed C-5 Galaxy:** This is the largest military cargo aircraft in the U.S. Air Force. It's designed to carry substantial loads, with a maximum capacity of 113,400 kg and a maximum takeoff weight of 381,000 kg.\\n*   **Boeing 747-8:** This is the longest passenger plane at 76.2 meters and can accommodate up to 605 passengers.\\n*   **Stratolaunch:** This aircraft has a wingspan of 117.35 meters and is designed to carry space rockets to the edge of the Earth's atmosphere.\\n\\nIn summary, the An-225 was the largest overall, the A380 is the largest for passengers, and the C-5 Galaxy is the largest military cargo plane.\\n\", part_kind='text')], model_name='gemini-2.0-flash', timestamp=datetime.datetime(2025, 4, 11, 22, 42, 47, 772002, tzinfo=datetime.timezone.utc), kind='response'),\n",
       " ModelRequest(parts=[UserPromptPart(content='what are some other planes', timestamp=datetime.datetime(2025, 4, 11, 22, 50, 17, 682031, tzinfo=datetime.timezone.utc), part_kind='user-prompt')], kind='request'),\n",
       " ModelResponse(parts=[ToolCallPart(tool_name='quick_research_tool', args={'query': 'list of different types of planes'}, tool_call_id='pyd_ai_f89403233c244d8db2e83ef75152e327', part_kind='tool-call')], model_name='gemini-2.0-flash', timestamp=datetime.datetime(2025, 4, 11, 22, 50, 18, 501673, tzinfo=datetime.timezone.utc), kind='response'),\n",
       " ModelRequest(parts=[ToolReturnPart(tool_name='quick_research_tool', content='Here are some different types of planes:\\n\\n*   **Fixed-wing:** This is a general category that includes most common types of airplanes.\\n*   **Rotary-wing:** These aircraft use rotating wings (like helicopters) to generate lift.\\n*   **Gliders:** These are unpowered aircraft that rely on air currents to stay aloft.\\n*   **Fighter Jets:** Military aircraft designed for air-to-air combat.\\n*   **Commercial Airliners:** Large passenger planes used by airlines.\\n*   **Cargo Aircraft:** Planes designed to transport goods and materials.\\n*   **Private Planes:** Smaller aircraft used for personal transportation.\\n*   **Propeller Planes:** Aircraft powered by propellers.\\n', tool_call_id='pyd_ai_f89403233c244d8db2e83ef75152e327', timestamp=datetime.datetime(2025, 4, 11, 22, 50, 22, 442713, tzinfo=datetime.timezone.utc), part_kind='tool-return')], kind='request'),\n",
       " ModelResponse(parts=[TextPart(content='Okay, here are some different types of planes:\\n\\n*   **Fixed-wing:** This is a general category that includes most common types of airplanes.\\n*   **Rotary-wing:** These aircraft use rotating wings (like helicopters) to generate lift.\\n*   **Gliders:** These are unpowered aircraft that rely on air currents to stay aloft.\\n*   **Fighter Jets:** Military aircraft designed for air-to-air combat.\\n*   **Commercial Airliners:** Large passenger planes used by airlines.\\n*   **Cargo Aircraft:** Planes designed to transport goods and materials.\\n*   **Private Planes:** Smaller aircraft used for personal transportation.\\n*   **Propeller Planes:** Aircraft powered by propellers.\\n', part_kind='text')], model_name='gemini-2.0-flash', timestamp=datetime.datetime(2025, 4, 11, 22, 50, 23, 488903, tzinfo=datetime.timezone.utc), kind='response'),\n",
       " ModelRequest(parts=[UserPromptPart(content='what are all the previous queries?', timestamp=datetime.datetime(2025, 4, 11, 22, 50, 57, 413071, tzinfo=datetime.timezone.utc), part_kind='user-prompt')], kind='request'),\n",
       " ModelResponse(parts=[TextPart(content='I do not have the ability to see the history of our conversation. I only have access to the current query.\\n', part_kind='text')], model_name='gemini-2.0-flash', timestamp=datetime.datetime(2025, 4, 11, 22, 50, 58, 40321, tzinfo=datetime.timezone.utc), kind='response'),\n",
       " ModelRequest(parts=[UserPromptPart(content='what as the previous message?', timestamp=datetime.datetime(2025, 4, 11, 22, 51, 42, 765632, tzinfo=datetime.timezone.utc), part_kind='user-prompt')], kind='request'),\n",
       " ModelResponse(parts=[TextPart(content='The previous message was: \"Okay, here are some different types of planes:\\n\\n*   **Fixed-wing:** This is a general category that includes most common types of airplanes.\\n*   **Rotary-wing:** These aircraft use rotating wings (like helicopters) to generate lift.\\n*   **Gliders:** These are unpowered aircraft that rely on air currents to stay aloft.\\n*   **Fighter Jets:** Military aircraft designed for air-to-air combat.\\n*   **Commercial Airliners:** Large passenger planes used by airlines.\\n*   **Cargo Aircraft:** Planes designed to transport goods and materials.\\n*   **Private Planes:** Smaller aircraft used for personal transportation.\\n*   **Propeller Planes:** Aircraft powered by propellers.\"\\n', part_kind='text')], model_name='gemini-2.0-flash', timestamp=datetime.datetime(2025, 4, 11, 22, 51, 43, 964704, tzinfo=datetime.timezone.utc), kind='response'),\n",
       " ModelRequest(parts=[UserPromptPart(content='what as the previous query?', timestamp=datetime.datetime(2025, 4, 11, 22, 51, 54, 309790, tzinfo=datetime.timezone.utc), part_kind='user-prompt')], kind='request'),\n",
       " ModelResponse(parts=[TextPart(content='The previous query was \"what are some other planes?\"\\n', part_kind='text')], model_name='gemini-2.0-flash', timestamp=datetime.datetime(2025, 4, 11, 22, 51, 54, 813871, tzinfo=datetime.timezone.utc), kind='response'),\n",
       " ModelRequest(parts=[UserPromptPart(content='what is your name?', timestamp=datetime.datetime(2025, 4, 11, 22, 52, 49, 923719, tzinfo=datetime.timezone.utc), part_kind='user-prompt')], kind='request'),\n",
       " ModelResponse(parts=[TextPart(content=\"I'm Cortana, a helpful assistant.\\n\", part_kind='text')], model_name='gemini-2.0-flash', timestamp=datetime.datetime(2025, 4, 11, 22, 52, 50, 412781, tzinfo=datetime.timezone.utc), kind='response')]"
      ]
     },
     "execution_count": 38,
     "metadata": {},
     "output_type": "execute_result"
    }
   ],
   "source": [
    "cortana_agent.memory.messages"
   ]
  }
 ],
 "metadata": {
  "kernelspec": {
   "display_name": ".venv",
   "language": "python",
   "name": "python3"
  },
  "language_info": {
   "codemirror_mode": {
    "name": "ipython",
    "version": 3
   },
   "file_extension": ".py",
   "mimetype": "text/x-python",
   "name": "python",
   "nbconvert_exporter": "python",
   "pygments_lexer": "ipython3",
   "version": "3.13.2"
  }
 },
 "nbformat": 4,
 "nbformat_minor": 2
}
