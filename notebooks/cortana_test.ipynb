{
 "cells": [
  {
   "cell_type": "code",
   "execution_count": 8,
   "metadata": {},
   "outputs": [],
   "source": [
    "\n",
    "from pydantic_ai import Agent, RunContext\n",
    "from pydantic_ai.common_tools.tavily import tavily_search_tool\n",
    "from pydantic_ai.messages import ModelMessage\n",
    "from pydantic_ai.models.google import GoogleModel\n",
    "from pydantic_ai.providers.google import GoogleProvider\n",
    "from pydantic_ai.models.openai import OpenAIModel\n",
    "from pydantic_ai.providers.openai import OpenAIProvider\n",
    "from dotenv import load_dotenv\n",
    "from dataclasses import dataclass\n",
    "from datetime import datetime\n",
    "from pydantic import Field\n",
    "\n",
    "\n",
    "import nest_asyncio\n",
    "nest_asyncio.apply()\n",
    "\n",
    "\n",
    "import os\n",
    "from tavily import TavilyClient\n",
    "load_dotenv()\n",
    "google_api_key=os.getenv('google_api_key')\n",
    "tavily_key=os.getenv('tavily_key')\n",
    "pse=os.getenv('pse')\n",
    "openai_api_key=os.getenv('openai_api_key')\n",
    "tavily_client = TavilyClient(api_key=tavily_key)\n",
    "composio_api_key=os.getenv('composio_api_key')\n",
    "# configure logfire\n",
    "# import logfire\n",
    "# logfire.configure(token=os.getenv('logfire_token'))\n",
    "# logfire.instrument_pydantic_ai()\n"
   ]
  },
  {
   "cell_type": "code",
   "execution_count": 9,
   "metadata": {},
   "outputs": [],
   "source": [
    "\n",
    "api_keys={\n",
    "    'google_api_key':google_api_key,\n",
    "    'tavily_key':tavily_key,\n",
    "    'pse':pse,\n",
    "    'openai_api_key':openai_api_key,\n",
    "    'composio_key':composio_api_key\n",
    "}\n"
   ]
  },
  {
   "cell_type": "code",
   "execution_count": 10,
   "metadata": {},
   "outputs": [],
   "source": [
    "from src.cortana.cortana_agent import Cortana_agent\n",
    "from src.cortana.PrebuiltTools.google_tools import search_images_tool, code_execution_tool\n",
    "from src.cortana.utils.helper_functions import MCP_server_helper"
   ]
  },
  {
   "cell_type": "code",
   "execution_count": 11,
   "metadata": {},
   "outputs": [],
   "source": [
    "mcp_server_helper=MCP_server_helper()\n",
    "mcp_server_helper.add_mpc_server(type='http', mpc_server_url=os.getenv('gmail_mcp_server'), headers=None)\n",
    "servers=mcp_server_helper.get_mpc_servers()"
   ]
  },
  {
   "cell_type": "code",
   "execution_count": 12,
   "metadata": {},
   "outputs": [],
   "source": [
    "tools=[search_images_tool(api_key=api_keys['google_api_key'],search_engine_id=api_keys['pse']),code_execution_tool(api_key=api_keys['google_api_key'])]"
   ]
  },
  {
   "cell_type": "code",
   "execution_count": 13,
   "metadata": {},
   "outputs": [],
   "source": [
    "llm=OpenAIModel('gpt-4.1-mini',provider=OpenAIProvider(api_key=api_keys['openai_api_key']))"
   ]
  },
  {
   "cell_type": "code",
   "execution_count": 14,
   "metadata": {},
   "outputs": [],
   "source": [
    "agent=Cortana_agent(llm=llm, tools=tools, mpc_servers=servers, summarizer=True)"
   ]
  },
  {
   "cell_type": "code",
   "execution_count": 15,
   "metadata": {},
   "outputs": [
    {
     "name": "stdout",
     "output_type": "stream",
     "text": [
      "Connected to MCP server\n",
      "The result of the expression 10 + 10 * 2.5 is 35.0.\n"
     ]
    }
   ],
   "source": [
    "result=await agent.chat(['what is 10+10*2.5'])\n",
    "print(result.ui_version)"
   ]
  },
  {
   "cell_type": "code",
   "execution_count": null,
   "metadata": {},
   "outputs": [],
   "source": [
    "\n",
    "llms={'pydantic_llm':GoogleModel('gemini-2.5-flash', provider=GoogleProvider(api_key=api_keys['google_api_key']))}"
   ]
  },
  {
   "cell_type": "code",
   "execution_count": null,
   "metadata": {},
   "outputs": [],
   "source": []
  }
 ],
 "metadata": {
  "kernelspec": {
   "display_name": ".venv",
   "language": "python",
   "name": "python3"
  },
  "language_info": {
   "codemirror_mode": {
    "name": "ipython",
    "version": 3
   },
   "file_extension": ".py",
   "mimetype": "text/x-python",
   "name": "python",
   "nbconvert_exporter": "python",
   "pygments_lexer": "ipython3",
   "version": "3.13.2"
  }
 },
 "nbformat": 4,
 "nbformat_minor": 2
}
